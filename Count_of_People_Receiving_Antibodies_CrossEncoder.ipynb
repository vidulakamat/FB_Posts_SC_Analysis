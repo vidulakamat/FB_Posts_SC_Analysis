{
  "nbformat": 4,
  "nbformat_minor": 0,
  "metadata": {
    "colab": {
      "name": "Count_of_People_Receiving_Antibodies_CrossEncoder.ipynb",
      "provenance": [],
      "collapsed_sections": [],
      "authorship_tag": "ABX9TyPoqwEpfaQpljIfAU6tBaOo",
      "include_colab_link": true
    },
    "kernelspec": {
      "name": "python3",
      "display_name": "Python 3"
    },
    "widgets": {
      "application/vnd.jupyter.widget-state+json": {
        "ec6f22d080c045629f27ca25d74c5806": {
          "model_module": "@jupyter-widgets/controls",
          "model_name": "HBoxModel",
          "state": {
            "_view_name": "HBoxView",
            "_dom_classes": [],
            "_model_name": "HBoxModel",
            "_view_module": "@jupyter-widgets/controls",
            "_model_module_version": "1.5.0",
            "_view_count": null,
            "_view_module_version": "1.5.0",
            "box_style": "",
            "layout": "IPY_MODEL_aedf2105394e445e98c7fa7617a59e8a",
            "_model_module": "@jupyter-widgets/controls",
            "children": [
              "IPY_MODEL_8abf4e3f5a9a465bb251936e45cc377c",
              "IPY_MODEL_85ec6748defa41a8844b59e3f236663c"
            ]
          }
        },
        "aedf2105394e445e98c7fa7617a59e8a": {
          "model_module": "@jupyter-widgets/base",
          "model_name": "LayoutModel",
          "state": {
            "_view_name": "LayoutView",
            "grid_template_rows": null,
            "right": null,
            "justify_content": null,
            "_view_module": "@jupyter-widgets/base",
            "overflow": null,
            "_model_module_version": "1.2.0",
            "_view_count": null,
            "flex_flow": null,
            "width": null,
            "min_width": null,
            "border": null,
            "align_items": null,
            "bottom": null,
            "_model_module": "@jupyter-widgets/base",
            "top": null,
            "grid_column": null,
            "overflow_y": null,
            "overflow_x": null,
            "grid_auto_flow": null,
            "grid_area": null,
            "grid_template_columns": null,
            "flex": null,
            "_model_name": "LayoutModel",
            "justify_items": null,
            "grid_row": null,
            "max_height": null,
            "align_content": null,
            "visibility": null,
            "align_self": null,
            "height": null,
            "min_height": null,
            "padding": null,
            "grid_auto_rows": null,
            "grid_gap": null,
            "max_width": null,
            "order": null,
            "_view_module_version": "1.2.0",
            "grid_template_areas": null,
            "object_position": null,
            "object_fit": null,
            "grid_auto_columns": null,
            "margin": null,
            "display": null,
            "left": null
          }
        },
        "8abf4e3f5a9a465bb251936e45cc377c": {
          "model_module": "@jupyter-widgets/controls",
          "model_name": "FloatProgressModel",
          "state": {
            "_view_name": "ProgressView",
            "style": "IPY_MODEL_f32925543e264ec182eacff69bd3dba1",
            "_dom_classes": [],
            "description": "Downloading: 100%",
            "_model_name": "FloatProgressModel",
            "bar_style": "success",
            "max": 612,
            "_view_module": "@jupyter-widgets/controls",
            "_model_module_version": "1.5.0",
            "value": 612,
            "_view_count": null,
            "_view_module_version": "1.5.0",
            "orientation": "horizontal",
            "min": 0,
            "description_tooltip": null,
            "_model_module": "@jupyter-widgets/controls",
            "layout": "IPY_MODEL_c8fdfb1a409d4e90b19696f1d5528fc2"
          }
        },
        "85ec6748defa41a8844b59e3f236663c": {
          "model_module": "@jupyter-widgets/controls",
          "model_name": "HTMLModel",
          "state": {
            "_view_name": "HTMLView",
            "style": "IPY_MODEL_44da2353660a4b4a9f13e1d7b9abbf36",
            "_dom_classes": [],
            "description": "",
            "_model_name": "HTMLModel",
            "placeholder": "​",
            "_view_module": "@jupyter-widgets/controls",
            "_model_module_version": "1.5.0",
            "value": " 612/612 [00:00&lt;00:00, 847B/s]",
            "_view_count": null,
            "_view_module_version": "1.5.0",
            "description_tooltip": null,
            "_model_module": "@jupyter-widgets/controls",
            "layout": "IPY_MODEL_385397dd0a0d456494ecf096b22356a6"
          }
        },
        "f32925543e264ec182eacff69bd3dba1": {
          "model_module": "@jupyter-widgets/controls",
          "model_name": "ProgressStyleModel",
          "state": {
            "_view_name": "StyleView",
            "_model_name": "ProgressStyleModel",
            "description_width": "initial",
            "_view_module": "@jupyter-widgets/base",
            "_model_module_version": "1.5.0",
            "_view_count": null,
            "_view_module_version": "1.2.0",
            "bar_color": null,
            "_model_module": "@jupyter-widgets/controls"
          }
        },
        "c8fdfb1a409d4e90b19696f1d5528fc2": {
          "model_module": "@jupyter-widgets/base",
          "model_name": "LayoutModel",
          "state": {
            "_view_name": "LayoutView",
            "grid_template_rows": null,
            "right": null,
            "justify_content": null,
            "_view_module": "@jupyter-widgets/base",
            "overflow": null,
            "_model_module_version": "1.2.0",
            "_view_count": null,
            "flex_flow": null,
            "width": null,
            "min_width": null,
            "border": null,
            "align_items": null,
            "bottom": null,
            "_model_module": "@jupyter-widgets/base",
            "top": null,
            "grid_column": null,
            "overflow_y": null,
            "overflow_x": null,
            "grid_auto_flow": null,
            "grid_area": null,
            "grid_template_columns": null,
            "flex": null,
            "_model_name": "LayoutModel",
            "justify_items": null,
            "grid_row": null,
            "max_height": null,
            "align_content": null,
            "visibility": null,
            "align_self": null,
            "height": null,
            "min_height": null,
            "padding": null,
            "grid_auto_rows": null,
            "grid_gap": null,
            "max_width": null,
            "order": null,
            "_view_module_version": "1.2.0",
            "grid_template_areas": null,
            "object_position": null,
            "object_fit": null,
            "grid_auto_columns": null,
            "margin": null,
            "display": null,
            "left": null
          }
        },
        "44da2353660a4b4a9f13e1d7b9abbf36": {
          "model_module": "@jupyter-widgets/controls",
          "model_name": "DescriptionStyleModel",
          "state": {
            "_view_name": "StyleView",
            "_model_name": "DescriptionStyleModel",
            "description_width": "",
            "_view_module": "@jupyter-widgets/base",
            "_model_module_version": "1.5.0",
            "_view_count": null,
            "_view_module_version": "1.2.0",
            "_model_module": "@jupyter-widgets/controls"
          }
        },
        "385397dd0a0d456494ecf096b22356a6": {
          "model_module": "@jupyter-widgets/base",
          "model_name": "LayoutModel",
          "state": {
            "_view_name": "LayoutView",
            "grid_template_rows": null,
            "right": null,
            "justify_content": null,
            "_view_module": "@jupyter-widgets/base",
            "overflow": null,
            "_model_module_version": "1.2.0",
            "_view_count": null,
            "flex_flow": null,
            "width": null,
            "min_width": null,
            "border": null,
            "align_items": null,
            "bottom": null,
            "_model_module": "@jupyter-widgets/base",
            "top": null,
            "grid_column": null,
            "overflow_y": null,
            "overflow_x": null,
            "grid_auto_flow": null,
            "grid_area": null,
            "grid_template_columns": null,
            "flex": null,
            "_model_name": "LayoutModel",
            "justify_items": null,
            "grid_row": null,
            "max_height": null,
            "align_content": null,
            "visibility": null,
            "align_self": null,
            "height": null,
            "min_height": null,
            "padding": null,
            "grid_auto_rows": null,
            "grid_gap": null,
            "max_width": null,
            "order": null,
            "_view_module_version": "1.2.0",
            "grid_template_areas": null,
            "object_position": null,
            "object_fit": null,
            "grid_auto_columns": null,
            "margin": null,
            "display": null,
            "left": null
          }
        },
        "951b1a3954da47adb7f860716a988c6a": {
          "model_module": "@jupyter-widgets/controls",
          "model_name": "HBoxModel",
          "state": {
            "_view_name": "HBoxView",
            "_dom_classes": [],
            "_model_name": "HBoxModel",
            "_view_module": "@jupyter-widgets/controls",
            "_model_module_version": "1.5.0",
            "_view_count": null,
            "_view_module_version": "1.5.0",
            "box_style": "",
            "layout": "IPY_MODEL_162c70cb80684831b4d679181420e851",
            "_model_module": "@jupyter-widgets/controls",
            "children": [
              "IPY_MODEL_681b4b93ae034929a09ccafeff597e55",
              "IPY_MODEL_bbdce6114f614e5bb79a837c2502cf32"
            ]
          }
        },
        "162c70cb80684831b4d679181420e851": {
          "model_module": "@jupyter-widgets/base",
          "model_name": "LayoutModel",
          "state": {
            "_view_name": "LayoutView",
            "grid_template_rows": null,
            "right": null,
            "justify_content": null,
            "_view_module": "@jupyter-widgets/base",
            "overflow": null,
            "_model_module_version": "1.2.0",
            "_view_count": null,
            "flex_flow": null,
            "width": null,
            "min_width": null,
            "border": null,
            "align_items": null,
            "bottom": null,
            "_model_module": "@jupyter-widgets/base",
            "top": null,
            "grid_column": null,
            "overflow_y": null,
            "overflow_x": null,
            "grid_auto_flow": null,
            "grid_area": null,
            "grid_template_columns": null,
            "flex": null,
            "_model_name": "LayoutModel",
            "justify_items": null,
            "grid_row": null,
            "max_height": null,
            "align_content": null,
            "visibility": null,
            "align_self": null,
            "height": null,
            "min_height": null,
            "padding": null,
            "grid_auto_rows": null,
            "grid_gap": null,
            "max_width": null,
            "order": null,
            "_view_module_version": "1.2.0",
            "grid_template_areas": null,
            "object_position": null,
            "object_fit": null,
            "grid_auto_columns": null,
            "margin": null,
            "display": null,
            "left": null
          }
        },
        "681b4b93ae034929a09ccafeff597e55": {
          "model_module": "@jupyter-widgets/controls",
          "model_name": "FloatProgressModel",
          "state": {
            "_view_name": "ProgressView",
            "style": "IPY_MODEL_902eba54a23b47729803a3a6bbfd0443",
            "_dom_classes": [],
            "description": "Downloading: 100%",
            "_model_name": "FloatProgressModel",
            "bar_style": "success",
            "max": 17565609,
            "_view_module": "@jupyter-widgets/controls",
            "_model_module_version": "1.5.0",
            "value": 17565609,
            "_view_count": null,
            "_view_module_version": "1.5.0",
            "orientation": "horizontal",
            "min": 0,
            "description_tooltip": null,
            "_model_module": "@jupyter-widgets/controls",
            "layout": "IPY_MODEL_185d608640a246ba999e960bf7b4bc6a"
          }
        },
        "bbdce6114f614e5bb79a837c2502cf32": {
          "model_module": "@jupyter-widgets/controls",
          "model_name": "HTMLModel",
          "state": {
            "_view_name": "HTMLView",
            "style": "IPY_MODEL_8cb6e930c5be4a658e10eedcfe47d8d0",
            "_dom_classes": [],
            "description": "",
            "_model_name": "HTMLModel",
            "placeholder": "​",
            "_view_module": "@jupyter-widgets/controls",
            "_model_module_version": "1.5.0",
            "value": " 17.6M/17.6M [00:01&lt;00:00, 9.45MB/s]",
            "_view_count": null,
            "_view_module_version": "1.5.0",
            "description_tooltip": null,
            "_model_module": "@jupyter-widgets/controls",
            "layout": "IPY_MODEL_26744c5df458479d9ab1a3ffff2bf7ad"
          }
        },
        "902eba54a23b47729803a3a6bbfd0443": {
          "model_module": "@jupyter-widgets/controls",
          "model_name": "ProgressStyleModel",
          "state": {
            "_view_name": "StyleView",
            "_model_name": "ProgressStyleModel",
            "description_width": "initial",
            "_view_module": "@jupyter-widgets/base",
            "_model_module_version": "1.5.0",
            "_view_count": null,
            "_view_module_version": "1.2.0",
            "bar_color": null,
            "_model_module": "@jupyter-widgets/controls"
          }
        },
        "185d608640a246ba999e960bf7b4bc6a": {
          "model_module": "@jupyter-widgets/base",
          "model_name": "LayoutModel",
          "state": {
            "_view_name": "LayoutView",
            "grid_template_rows": null,
            "right": null,
            "justify_content": null,
            "_view_module": "@jupyter-widgets/base",
            "overflow": null,
            "_model_module_version": "1.2.0",
            "_view_count": null,
            "flex_flow": null,
            "width": null,
            "min_width": null,
            "border": null,
            "align_items": null,
            "bottom": null,
            "_model_module": "@jupyter-widgets/base",
            "top": null,
            "grid_column": null,
            "overflow_y": null,
            "overflow_x": null,
            "grid_auto_flow": null,
            "grid_area": null,
            "grid_template_columns": null,
            "flex": null,
            "_model_name": "LayoutModel",
            "justify_items": null,
            "grid_row": null,
            "max_height": null,
            "align_content": null,
            "visibility": null,
            "align_self": null,
            "height": null,
            "min_height": null,
            "padding": null,
            "grid_auto_rows": null,
            "grid_gap": null,
            "max_width": null,
            "order": null,
            "_view_module_version": "1.2.0",
            "grid_template_areas": null,
            "object_position": null,
            "object_fit": null,
            "grid_auto_columns": null,
            "margin": null,
            "display": null,
            "left": null
          }
        },
        "8cb6e930c5be4a658e10eedcfe47d8d0": {
          "model_module": "@jupyter-widgets/controls",
          "model_name": "DescriptionStyleModel",
          "state": {
            "_view_name": "StyleView",
            "_model_name": "DescriptionStyleModel",
            "description_width": "",
            "_view_module": "@jupyter-widgets/base",
            "_model_module_version": "1.5.0",
            "_view_count": null,
            "_view_module_version": "1.2.0",
            "_model_module": "@jupyter-widgets/controls"
          }
        },
        "26744c5df458479d9ab1a3ffff2bf7ad": {
          "model_module": "@jupyter-widgets/base",
          "model_name": "LayoutModel",
          "state": {
            "_view_name": "LayoutView",
            "grid_template_rows": null,
            "right": null,
            "justify_content": null,
            "_view_module": "@jupyter-widgets/base",
            "overflow": null,
            "_model_module_version": "1.2.0",
            "_view_count": null,
            "flex_flow": null,
            "width": null,
            "min_width": null,
            "border": null,
            "align_items": null,
            "bottom": null,
            "_model_module": "@jupyter-widgets/base",
            "top": null,
            "grid_column": null,
            "overflow_y": null,
            "overflow_x": null,
            "grid_auto_flow": null,
            "grid_area": null,
            "grid_template_columns": null,
            "flex": null,
            "_model_name": "LayoutModel",
            "justify_items": null,
            "grid_row": null,
            "max_height": null,
            "align_content": null,
            "visibility": null,
            "align_self": null,
            "height": null,
            "min_height": null,
            "padding": null,
            "grid_auto_rows": null,
            "grid_gap": null,
            "max_width": null,
            "order": null,
            "_view_module_version": "1.2.0",
            "grid_template_areas": null,
            "object_position": null,
            "object_fit": null,
            "grid_auto_columns": null,
            "margin": null,
            "display": null,
            "left": null
          }
        },
        "05b6be7899c54eaf9c9ae6d0ea859b7d": {
          "model_module": "@jupyter-widgets/controls",
          "model_name": "HBoxModel",
          "state": {
            "_view_name": "HBoxView",
            "_dom_classes": [],
            "_model_name": "HBoxModel",
            "_view_module": "@jupyter-widgets/controls",
            "_model_module_version": "1.5.0",
            "_view_count": null,
            "_view_module_version": "1.5.0",
            "box_style": "",
            "layout": "IPY_MODEL_3fc844fe749a45888cdd3c3fdf251272",
            "_model_module": "@jupyter-widgets/controls",
            "children": [
              "IPY_MODEL_35bd3ee03e3d41a0b2f4a1f39b8e96e1",
              "IPY_MODEL_05c4cac5c2bc41469e746cef85401b0c"
            ]
          }
        },
        "3fc844fe749a45888cdd3c3fdf251272": {
          "model_module": "@jupyter-widgets/base",
          "model_name": "LayoutModel",
          "state": {
            "_view_name": "LayoutView",
            "grid_template_rows": null,
            "right": null,
            "justify_content": null,
            "_view_module": "@jupyter-widgets/base",
            "overflow": null,
            "_model_module_version": "1.2.0",
            "_view_count": null,
            "flex_flow": null,
            "width": null,
            "min_width": null,
            "border": null,
            "align_items": null,
            "bottom": null,
            "_model_module": "@jupyter-widgets/base",
            "top": null,
            "grid_column": null,
            "overflow_y": null,
            "overflow_x": null,
            "grid_auto_flow": null,
            "grid_area": null,
            "grid_template_columns": null,
            "flex": null,
            "_model_name": "LayoutModel",
            "justify_items": null,
            "grid_row": null,
            "max_height": null,
            "align_content": null,
            "visibility": null,
            "align_self": null,
            "height": null,
            "min_height": null,
            "padding": null,
            "grid_auto_rows": null,
            "grid_gap": null,
            "max_width": null,
            "order": null,
            "_view_module_version": "1.2.0",
            "grid_template_areas": null,
            "object_position": null,
            "object_fit": null,
            "grid_auto_columns": null,
            "margin": null,
            "display": null,
            "left": null
          }
        },
        "35bd3ee03e3d41a0b2f4a1f39b8e96e1": {
          "model_module": "@jupyter-widgets/controls",
          "model_name": "FloatProgressModel",
          "state": {
            "_view_name": "ProgressView",
            "style": "IPY_MODEL_8ba5546a8d594fb18a51a9f64f2b8f27",
            "_dom_classes": [],
            "description": "Downloading: 100%",
            "_model_name": "FloatProgressModel",
            "bar_style": "success",
            "max": 231508,
            "_view_module": "@jupyter-widgets/controls",
            "_model_module_version": "1.5.0",
            "value": 231508,
            "_view_count": null,
            "_view_module_version": "1.5.0",
            "orientation": "horizontal",
            "min": 0,
            "description_tooltip": null,
            "_model_module": "@jupyter-widgets/controls",
            "layout": "IPY_MODEL_2320cf31b6714be08fa69506bdcd7d9f"
          }
        },
        "05c4cac5c2bc41469e746cef85401b0c": {
          "model_module": "@jupyter-widgets/controls",
          "model_name": "HTMLModel",
          "state": {
            "_view_name": "HTMLView",
            "style": "IPY_MODEL_173c913aaf444aee84e25b135a420820",
            "_dom_classes": [],
            "description": "",
            "_model_name": "HTMLModel",
            "placeholder": "​",
            "_view_module": "@jupyter-widgets/controls",
            "_model_module_version": "1.5.0",
            "value": " 232k/232k [00:00&lt;00:00, 698kB/s]",
            "_view_count": null,
            "_view_module_version": "1.5.0",
            "description_tooltip": null,
            "_model_module": "@jupyter-widgets/controls",
            "layout": "IPY_MODEL_ccb752bc6e9f48edbfbfd6fc865a4c5d"
          }
        },
        "8ba5546a8d594fb18a51a9f64f2b8f27": {
          "model_module": "@jupyter-widgets/controls",
          "model_name": "ProgressStyleModel",
          "state": {
            "_view_name": "StyleView",
            "_model_name": "ProgressStyleModel",
            "description_width": "initial",
            "_view_module": "@jupyter-widgets/base",
            "_model_module_version": "1.5.0",
            "_view_count": null,
            "_view_module_version": "1.2.0",
            "bar_color": null,
            "_model_module": "@jupyter-widgets/controls"
          }
        },
        "2320cf31b6714be08fa69506bdcd7d9f": {
          "model_module": "@jupyter-widgets/base",
          "model_name": "LayoutModel",
          "state": {
            "_view_name": "LayoutView",
            "grid_template_rows": null,
            "right": null,
            "justify_content": null,
            "_view_module": "@jupyter-widgets/base",
            "overflow": null,
            "_model_module_version": "1.2.0",
            "_view_count": null,
            "flex_flow": null,
            "width": null,
            "min_width": null,
            "border": null,
            "align_items": null,
            "bottom": null,
            "_model_module": "@jupyter-widgets/base",
            "top": null,
            "grid_column": null,
            "overflow_y": null,
            "overflow_x": null,
            "grid_auto_flow": null,
            "grid_area": null,
            "grid_template_columns": null,
            "flex": null,
            "_model_name": "LayoutModel",
            "justify_items": null,
            "grid_row": null,
            "max_height": null,
            "align_content": null,
            "visibility": null,
            "align_self": null,
            "height": null,
            "min_height": null,
            "padding": null,
            "grid_auto_rows": null,
            "grid_gap": null,
            "max_width": null,
            "order": null,
            "_view_module_version": "1.2.0",
            "grid_template_areas": null,
            "object_position": null,
            "object_fit": null,
            "grid_auto_columns": null,
            "margin": null,
            "display": null,
            "left": null
          }
        },
        "173c913aaf444aee84e25b135a420820": {
          "model_module": "@jupyter-widgets/controls",
          "model_name": "DescriptionStyleModel",
          "state": {
            "_view_name": "StyleView",
            "_model_name": "DescriptionStyleModel",
            "description_width": "",
            "_view_module": "@jupyter-widgets/base",
            "_model_module_version": "1.5.0",
            "_view_count": null,
            "_view_module_version": "1.2.0",
            "_model_module": "@jupyter-widgets/controls"
          }
        },
        "ccb752bc6e9f48edbfbfd6fc865a4c5d": {
          "model_module": "@jupyter-widgets/base",
          "model_name": "LayoutModel",
          "state": {
            "_view_name": "LayoutView",
            "grid_template_rows": null,
            "right": null,
            "justify_content": null,
            "_view_module": "@jupyter-widgets/base",
            "overflow": null,
            "_model_module_version": "1.2.0",
            "_view_count": null,
            "flex_flow": null,
            "width": null,
            "min_width": null,
            "border": null,
            "align_items": null,
            "bottom": null,
            "_model_module": "@jupyter-widgets/base",
            "top": null,
            "grid_column": null,
            "overflow_y": null,
            "overflow_x": null,
            "grid_auto_flow": null,
            "grid_area": null,
            "grid_template_columns": null,
            "flex": null,
            "_model_name": "LayoutModel",
            "justify_items": null,
            "grid_row": null,
            "max_height": null,
            "align_content": null,
            "visibility": null,
            "align_self": null,
            "height": null,
            "min_height": null,
            "padding": null,
            "grid_auto_rows": null,
            "grid_gap": null,
            "max_width": null,
            "order": null,
            "_view_module_version": "1.2.0",
            "grid_template_areas": null,
            "object_position": null,
            "object_fit": null,
            "grid_auto_columns": null,
            "margin": null,
            "display": null,
            "left": null
          }
        },
        "1ab87dc8fb7c43c086c9e7ab7f49b71f": {
          "model_module": "@jupyter-widgets/controls",
          "model_name": "HBoxModel",
          "state": {
            "_view_name": "HBoxView",
            "_dom_classes": [],
            "_model_name": "HBoxModel",
            "_view_module": "@jupyter-widgets/controls",
            "_model_module_version": "1.5.0",
            "_view_count": null,
            "_view_module_version": "1.5.0",
            "box_style": "",
            "layout": "IPY_MODEL_d888504b64964993a3a84aedf90f11cb",
            "_model_module": "@jupyter-widgets/controls",
            "children": [
              "IPY_MODEL_48c9710bc91041a69e1fa2dfac2012da",
              "IPY_MODEL_bebbf710f36142cfbb78099d2cec4256"
            ]
          }
        },
        "d888504b64964993a3a84aedf90f11cb": {
          "model_module": "@jupyter-widgets/base",
          "model_name": "LayoutModel",
          "state": {
            "_view_name": "LayoutView",
            "grid_template_rows": null,
            "right": null,
            "justify_content": null,
            "_view_module": "@jupyter-widgets/base",
            "overflow": null,
            "_model_module_version": "1.2.0",
            "_view_count": null,
            "flex_flow": null,
            "width": null,
            "min_width": null,
            "border": null,
            "align_items": null,
            "bottom": null,
            "_model_module": "@jupyter-widgets/base",
            "top": null,
            "grid_column": null,
            "overflow_y": null,
            "overflow_x": null,
            "grid_auto_flow": null,
            "grid_area": null,
            "grid_template_columns": null,
            "flex": null,
            "_model_name": "LayoutModel",
            "justify_items": null,
            "grid_row": null,
            "max_height": null,
            "align_content": null,
            "visibility": null,
            "align_self": null,
            "height": null,
            "min_height": null,
            "padding": null,
            "grid_auto_rows": null,
            "grid_gap": null,
            "max_width": null,
            "order": null,
            "_view_module_version": "1.2.0",
            "grid_template_areas": null,
            "object_position": null,
            "object_fit": null,
            "grid_auto_columns": null,
            "margin": null,
            "display": null,
            "left": null
          }
        },
        "48c9710bc91041a69e1fa2dfac2012da": {
          "model_module": "@jupyter-widgets/controls",
          "model_name": "FloatProgressModel",
          "state": {
            "_view_name": "ProgressView",
            "style": "IPY_MODEL_054b7f97f6734c4693ab04d2c9c898a2",
            "_dom_classes": [],
            "description": "Downloading: 100%",
            "_model_name": "FloatProgressModel",
            "bar_style": "success",
            "max": 112,
            "_view_module": "@jupyter-widgets/controls",
            "_model_module_version": "1.5.0",
            "value": 112,
            "_view_count": null,
            "_view_module_version": "1.5.0",
            "orientation": "horizontal",
            "min": 0,
            "description_tooltip": null,
            "_model_module": "@jupyter-widgets/controls",
            "layout": "IPY_MODEL_ed7200ddc5bf44c6961ab24427d1e769"
          }
        },
        "bebbf710f36142cfbb78099d2cec4256": {
          "model_module": "@jupyter-widgets/controls",
          "model_name": "HTMLModel",
          "state": {
            "_view_name": "HTMLView",
            "style": "IPY_MODEL_133ca63ea5754a77ac9d8f7e34c68582",
            "_dom_classes": [],
            "description": "",
            "_model_name": "HTMLModel",
            "placeholder": "​",
            "_view_module": "@jupyter-widgets/controls",
            "_model_module_version": "1.5.0",
            "value": " 112/112 [00:00&lt;00:00, 392B/s]",
            "_view_count": null,
            "_view_module_version": "1.5.0",
            "description_tooltip": null,
            "_model_module": "@jupyter-widgets/controls",
            "layout": "IPY_MODEL_64b90e8f228c4892823a8a9657362f44"
          }
        },
        "054b7f97f6734c4693ab04d2c9c898a2": {
          "model_module": "@jupyter-widgets/controls",
          "model_name": "ProgressStyleModel",
          "state": {
            "_view_name": "StyleView",
            "_model_name": "ProgressStyleModel",
            "description_width": "initial",
            "_view_module": "@jupyter-widgets/base",
            "_model_module_version": "1.5.0",
            "_view_count": null,
            "_view_module_version": "1.2.0",
            "bar_color": null,
            "_model_module": "@jupyter-widgets/controls"
          }
        },
        "ed7200ddc5bf44c6961ab24427d1e769": {
          "model_module": "@jupyter-widgets/base",
          "model_name": "LayoutModel",
          "state": {
            "_view_name": "LayoutView",
            "grid_template_rows": null,
            "right": null,
            "justify_content": null,
            "_view_module": "@jupyter-widgets/base",
            "overflow": null,
            "_model_module_version": "1.2.0",
            "_view_count": null,
            "flex_flow": null,
            "width": null,
            "min_width": null,
            "border": null,
            "align_items": null,
            "bottom": null,
            "_model_module": "@jupyter-widgets/base",
            "top": null,
            "grid_column": null,
            "overflow_y": null,
            "overflow_x": null,
            "grid_auto_flow": null,
            "grid_area": null,
            "grid_template_columns": null,
            "flex": null,
            "_model_name": "LayoutModel",
            "justify_items": null,
            "grid_row": null,
            "max_height": null,
            "align_content": null,
            "visibility": null,
            "align_self": null,
            "height": null,
            "min_height": null,
            "padding": null,
            "grid_auto_rows": null,
            "grid_gap": null,
            "max_width": null,
            "order": null,
            "_view_module_version": "1.2.0",
            "grid_template_areas": null,
            "object_position": null,
            "object_fit": null,
            "grid_auto_columns": null,
            "margin": null,
            "display": null,
            "left": null
          }
        },
        "133ca63ea5754a77ac9d8f7e34c68582": {
          "model_module": "@jupyter-widgets/controls",
          "model_name": "DescriptionStyleModel",
          "state": {
            "_view_name": "StyleView",
            "_model_name": "DescriptionStyleModel",
            "description_width": "",
            "_view_module": "@jupyter-widgets/base",
            "_model_module_version": "1.5.0",
            "_view_count": null,
            "_view_module_version": "1.2.0",
            "_model_module": "@jupyter-widgets/controls"
          }
        },
        "64b90e8f228c4892823a8a9657362f44": {
          "model_module": "@jupyter-widgets/base",
          "model_name": "LayoutModel",
          "state": {
            "_view_name": "LayoutView",
            "grid_template_rows": null,
            "right": null,
            "justify_content": null,
            "_view_module": "@jupyter-widgets/base",
            "overflow": null,
            "_model_module_version": "1.2.0",
            "_view_count": null,
            "flex_flow": null,
            "width": null,
            "min_width": null,
            "border": null,
            "align_items": null,
            "bottom": null,
            "_model_module": "@jupyter-widgets/base",
            "top": null,
            "grid_column": null,
            "overflow_y": null,
            "overflow_x": null,
            "grid_auto_flow": null,
            "grid_area": null,
            "grid_template_columns": null,
            "flex": null,
            "_model_name": "LayoutModel",
            "justify_items": null,
            "grid_row": null,
            "max_height": null,
            "align_content": null,
            "visibility": null,
            "align_self": null,
            "height": null,
            "min_height": null,
            "padding": null,
            "grid_auto_rows": null,
            "grid_gap": null,
            "max_width": null,
            "order": null,
            "_view_module_version": "1.2.0",
            "grid_template_areas": null,
            "object_position": null,
            "object_fit": null,
            "grid_auto_columns": null,
            "margin": null,
            "display": null,
            "left": null
          }
        },
        "74a54c0134134681b9e3f6f36f71f49b": {
          "model_module": "@jupyter-widgets/controls",
          "model_name": "HBoxModel",
          "state": {
            "_view_name": "HBoxView",
            "_dom_classes": [],
            "_model_name": "HBoxModel",
            "_view_module": "@jupyter-widgets/controls",
            "_model_module_version": "1.5.0",
            "_view_count": null,
            "_view_module_version": "1.5.0",
            "box_style": "",
            "layout": "IPY_MODEL_c5db5318014b433d9806fd0867e2899b",
            "_model_module": "@jupyter-widgets/controls",
            "children": [
              "IPY_MODEL_a5128cd5b2714498abe66f5c7cb57fde",
              "IPY_MODEL_2ad6de4f5842464783827132c00d1210"
            ]
          }
        },
        "c5db5318014b433d9806fd0867e2899b": {
          "model_module": "@jupyter-widgets/base",
          "model_name": "LayoutModel",
          "state": {
            "_view_name": "LayoutView",
            "grid_template_rows": null,
            "right": null,
            "justify_content": null,
            "_view_module": "@jupyter-widgets/base",
            "overflow": null,
            "_model_module_version": "1.2.0",
            "_view_count": null,
            "flex_flow": null,
            "width": null,
            "min_width": null,
            "border": null,
            "align_items": null,
            "bottom": null,
            "_model_module": "@jupyter-widgets/base",
            "top": null,
            "grid_column": null,
            "overflow_y": null,
            "overflow_x": null,
            "grid_auto_flow": null,
            "grid_area": null,
            "grid_template_columns": null,
            "flex": null,
            "_model_name": "LayoutModel",
            "justify_items": null,
            "grid_row": null,
            "max_height": null,
            "align_content": null,
            "visibility": null,
            "align_self": null,
            "height": null,
            "min_height": null,
            "padding": null,
            "grid_auto_rows": null,
            "grid_gap": null,
            "max_width": null,
            "order": null,
            "_view_module_version": "1.2.0",
            "grid_template_areas": null,
            "object_position": null,
            "object_fit": null,
            "grid_auto_columns": null,
            "margin": null,
            "display": null,
            "left": null
          }
        },
        "a5128cd5b2714498abe66f5c7cb57fde": {
          "model_module": "@jupyter-widgets/controls",
          "model_name": "FloatProgressModel",
          "state": {
            "_view_name": "ProgressView",
            "style": "IPY_MODEL_e50225df03b34858894741f34489157c",
            "_dom_classes": [],
            "description": "Downloading: 100%",
            "_model_name": "FloatProgressModel",
            "bar_style": "success",
            "max": 543,
            "_view_module": "@jupyter-widgets/controls",
            "_model_module_version": "1.5.0",
            "value": 543,
            "_view_count": null,
            "_view_module_version": "1.5.0",
            "orientation": "horizontal",
            "min": 0,
            "description_tooltip": null,
            "_model_module": "@jupyter-widgets/controls",
            "layout": "IPY_MODEL_eedf83f43781481b9dc8724620d5be01"
          }
        },
        "2ad6de4f5842464783827132c00d1210": {
          "model_module": "@jupyter-widgets/controls",
          "model_name": "HTMLModel",
          "state": {
            "_view_name": "HTMLView",
            "style": "IPY_MODEL_bfda848bc3c7423ca492179136592b1b",
            "_dom_classes": [],
            "description": "",
            "_model_name": "HTMLModel",
            "placeholder": "​",
            "_view_module": "@jupyter-widgets/controls",
            "_model_module_version": "1.5.0",
            "value": " 543/543 [00:00&lt;00:00, 5.76kB/s]",
            "_view_count": null,
            "_view_module_version": "1.5.0",
            "description_tooltip": null,
            "_model_module": "@jupyter-widgets/controls",
            "layout": "IPY_MODEL_08c2960cd4d944da99fb1fd7eb173efe"
          }
        },
        "e50225df03b34858894741f34489157c": {
          "model_module": "@jupyter-widgets/controls",
          "model_name": "ProgressStyleModel",
          "state": {
            "_view_name": "StyleView",
            "_model_name": "ProgressStyleModel",
            "description_width": "initial",
            "_view_module": "@jupyter-widgets/base",
            "_model_module_version": "1.5.0",
            "_view_count": null,
            "_view_module_version": "1.2.0",
            "bar_color": null,
            "_model_module": "@jupyter-widgets/controls"
          }
        },
        "eedf83f43781481b9dc8724620d5be01": {
          "model_module": "@jupyter-widgets/base",
          "model_name": "LayoutModel",
          "state": {
            "_view_name": "LayoutView",
            "grid_template_rows": null,
            "right": null,
            "justify_content": null,
            "_view_module": "@jupyter-widgets/base",
            "overflow": null,
            "_model_module_version": "1.2.0",
            "_view_count": null,
            "flex_flow": null,
            "width": null,
            "min_width": null,
            "border": null,
            "align_items": null,
            "bottom": null,
            "_model_module": "@jupyter-widgets/base",
            "top": null,
            "grid_column": null,
            "overflow_y": null,
            "overflow_x": null,
            "grid_auto_flow": null,
            "grid_area": null,
            "grid_template_columns": null,
            "flex": null,
            "_model_name": "LayoutModel",
            "justify_items": null,
            "grid_row": null,
            "max_height": null,
            "align_content": null,
            "visibility": null,
            "align_self": null,
            "height": null,
            "min_height": null,
            "padding": null,
            "grid_auto_rows": null,
            "grid_gap": null,
            "max_width": null,
            "order": null,
            "_view_module_version": "1.2.0",
            "grid_template_areas": null,
            "object_position": null,
            "object_fit": null,
            "grid_auto_columns": null,
            "margin": null,
            "display": null,
            "left": null
          }
        },
        "bfda848bc3c7423ca492179136592b1b": {
          "model_module": "@jupyter-widgets/controls",
          "model_name": "DescriptionStyleModel",
          "state": {
            "_view_name": "StyleView",
            "_model_name": "DescriptionStyleModel",
            "description_width": "",
            "_view_module": "@jupyter-widgets/base",
            "_model_module_version": "1.5.0",
            "_view_count": null,
            "_view_module_version": "1.2.0",
            "_model_module": "@jupyter-widgets/controls"
          }
        },
        "08c2960cd4d944da99fb1fd7eb173efe": {
          "model_module": "@jupyter-widgets/base",
          "model_name": "LayoutModel",
          "state": {
            "_view_name": "LayoutView",
            "grid_template_rows": null,
            "right": null,
            "justify_content": null,
            "_view_module": "@jupyter-widgets/base",
            "overflow": null,
            "_model_module_version": "1.2.0",
            "_view_count": null,
            "flex_flow": null,
            "width": null,
            "min_width": null,
            "border": null,
            "align_items": null,
            "bottom": null,
            "_model_module": "@jupyter-widgets/base",
            "top": null,
            "grid_column": null,
            "overflow_y": null,
            "overflow_x": null,
            "grid_auto_flow": null,
            "grid_area": null,
            "grid_template_columns": null,
            "flex": null,
            "_model_name": "LayoutModel",
            "justify_items": null,
            "grid_row": null,
            "max_height": null,
            "align_content": null,
            "visibility": null,
            "align_self": null,
            "height": null,
            "min_height": null,
            "padding": null,
            "grid_auto_rows": null,
            "grid_gap": null,
            "max_width": null,
            "order": null,
            "_view_module_version": "1.2.0",
            "grid_template_areas": null,
            "object_position": null,
            "object_fit": null,
            "grid_auto_columns": null,
            "margin": null,
            "display": null,
            "left": null
          }
        }
      }
    }
  },
  "cells": [
    {
      "cell_type": "markdown",
      "metadata": {
        "id": "view-in-github",
        "colab_type": "text"
      },
      "source": [
        "<a href=\"https://colab.research.google.com/github/vidulakamat/FB_Posts_SC_Analysis/blob/main/Count_of_People_Receiving_Antibodies_CrossEncoder.ipynb\" target=\"_parent\"><img src=\"https://colab.research.google.com/assets/colab-badge.svg\" alt=\"Open In Colab\"/></a>"
      ]
    },
    {
      "cell_type": "code",
      "metadata": {
        "id": "U-LSPeJ1Nlpy"
      },
      "source": [
        "import numpy as np\r\n",
        "import pandas as pd\r\n",
        "import matplotlib.pyplot as plt\r\n",
        "import seaborn as sns\r\n",
        "%matplotlib inline"
      ],
      "execution_count": 5,
      "outputs": []
    },
    {
      "cell_type": "code",
      "metadata": {
        "id": "yavxSfzpN4yL"
      },
      "source": [
        "import re\r\n",
        "import spacy\r\n",
        "import time"
      ],
      "execution_count": 6,
      "outputs": []
    },
    {
      "cell_type": "code",
      "metadata": {
        "id": "Bn4On5wQPp2s"
      },
      "source": [
        "from kneed import KneeLocator"
      ],
      "execution_count": 38,
      "outputs": []
    },
    {
      "cell_type": "code",
      "metadata": {
        "colab": {
          "base_uri": "https://localhost:8080/"
        },
        "id": "MICcvNnqN7Fe",
        "outputId": "40e2f76a-b4c0-4e56-f2e6-3ed2310d21f8"
      },
      "source": [
        "pip install -U sentence-transformers"
      ],
      "execution_count": 7,
      "outputs": [
        {
          "output_type": "stream",
          "text": [
            "Requirement already up-to-date: sentence-transformers in /usr/local/lib/python3.6/dist-packages (0.4.1.2)\n",
            "Requirement already satisfied, skipping upgrade: scikit-learn in /usr/local/lib/python3.6/dist-packages (from sentence-transformers) (0.22.2.post1)\n",
            "Requirement already satisfied, skipping upgrade: transformers<5.0.0,>=3.1.0 in /usr/local/lib/python3.6/dist-packages (from sentence-transformers) (4.3.2)\n",
            "Requirement already satisfied, skipping upgrade: torch>=1.6.0 in /usr/local/lib/python3.6/dist-packages (from sentence-transformers) (1.7.0+cu101)\n",
            "Requirement already satisfied, skipping upgrade: nltk in /usr/local/lib/python3.6/dist-packages (from sentence-transformers) (3.2.5)\n",
            "Requirement already satisfied, skipping upgrade: sentencepiece in /usr/local/lib/python3.6/dist-packages (from sentence-transformers) (0.1.95)\n",
            "Requirement already satisfied, skipping upgrade: numpy in /usr/local/lib/python3.6/dist-packages (from sentence-transformers) (1.19.5)\n",
            "Requirement already satisfied, skipping upgrade: tqdm in /usr/local/lib/python3.6/dist-packages (from sentence-transformers) (4.41.1)\n",
            "Requirement already satisfied, skipping upgrade: scipy in /usr/local/lib/python3.6/dist-packages (from sentence-transformers) (1.4.1)\n",
            "Requirement already satisfied, skipping upgrade: joblib>=0.11 in /usr/local/lib/python3.6/dist-packages (from scikit-learn->sentence-transformers) (1.0.0)\n",
            "Requirement already satisfied, skipping upgrade: tokenizers<0.11,>=0.10.1 in /usr/local/lib/python3.6/dist-packages (from transformers<5.0.0,>=3.1.0->sentence-transformers) (0.10.1)\n",
            "Requirement already satisfied, skipping upgrade: dataclasses; python_version < \"3.7\" in /usr/local/lib/python3.6/dist-packages (from transformers<5.0.0,>=3.1.0->sentence-transformers) (0.8)\n",
            "Requirement already satisfied, skipping upgrade: regex!=2019.12.17 in /usr/local/lib/python3.6/dist-packages (from transformers<5.0.0,>=3.1.0->sentence-transformers) (2019.12.20)\n",
            "Requirement already satisfied, skipping upgrade: filelock in /usr/local/lib/python3.6/dist-packages (from transformers<5.0.0,>=3.1.0->sentence-transformers) (3.0.12)\n",
            "Requirement already satisfied, skipping upgrade: requests in /usr/local/lib/python3.6/dist-packages (from transformers<5.0.0,>=3.1.0->sentence-transformers) (2.23.0)\n",
            "Requirement already satisfied, skipping upgrade: sacremoses in /usr/local/lib/python3.6/dist-packages (from transformers<5.0.0,>=3.1.0->sentence-transformers) (0.0.43)\n",
            "Requirement already satisfied, skipping upgrade: importlib-metadata; python_version < \"3.8\" in /usr/local/lib/python3.6/dist-packages (from transformers<5.0.0,>=3.1.0->sentence-transformers) (3.4.0)\n",
            "Requirement already satisfied, skipping upgrade: packaging in /usr/local/lib/python3.6/dist-packages (from transformers<5.0.0,>=3.1.0->sentence-transformers) (20.9)\n",
            "Requirement already satisfied, skipping upgrade: typing-extensions in /usr/local/lib/python3.6/dist-packages (from torch>=1.6.0->sentence-transformers) (3.7.4.3)\n",
            "Requirement already satisfied, skipping upgrade: future in /usr/local/lib/python3.6/dist-packages (from torch>=1.6.0->sentence-transformers) (0.16.0)\n",
            "Requirement already satisfied, skipping upgrade: six in /usr/local/lib/python3.6/dist-packages (from nltk->sentence-transformers) (1.15.0)\n",
            "Requirement already satisfied, skipping upgrade: certifi>=2017.4.17 in /usr/local/lib/python3.6/dist-packages (from requests->transformers<5.0.0,>=3.1.0->sentence-transformers) (2020.12.5)\n",
            "Requirement already satisfied, skipping upgrade: chardet<4,>=3.0.2 in /usr/local/lib/python3.6/dist-packages (from requests->transformers<5.0.0,>=3.1.0->sentence-transformers) (3.0.4)\n",
            "Requirement already satisfied, skipping upgrade: urllib3!=1.25.0,!=1.25.1,<1.26,>=1.21.1 in /usr/local/lib/python3.6/dist-packages (from requests->transformers<5.0.0,>=3.1.0->sentence-transformers) (1.24.3)\n",
            "Requirement already satisfied, skipping upgrade: idna<3,>=2.5 in /usr/local/lib/python3.6/dist-packages (from requests->transformers<5.0.0,>=3.1.0->sentence-transformers) (2.10)\n",
            "Requirement already satisfied, skipping upgrade: click in /usr/local/lib/python3.6/dist-packages (from sacremoses->transformers<5.0.0,>=3.1.0->sentence-transformers) (7.1.2)\n",
            "Requirement already satisfied, skipping upgrade: zipp>=0.5 in /usr/local/lib/python3.6/dist-packages (from importlib-metadata; python_version < \"3.8\"->transformers<5.0.0,>=3.1.0->sentence-transformers) (3.4.0)\n",
            "Requirement already satisfied, skipping upgrade: pyparsing>=2.0.2 in /usr/local/lib/python3.6/dist-packages (from packaging->transformers<5.0.0,>=3.1.0->sentence-transformers) (2.4.7)\n"
          ],
          "name": "stdout"
        }
      ]
    },
    {
      "cell_type": "code",
      "metadata": {
        "colab": {
          "base_uri": "https://localhost:8080/"
        },
        "id": "ob6_AlZQE55C",
        "outputId": "02e4c7e0-0f7c-488c-96ed-c4bf8cbb5fbf"
      },
      "source": [
        "pip install kneed"
      ],
      "execution_count": 8,
      "outputs": [
        {
          "output_type": "stream",
          "text": [
            "Requirement already satisfied: kneed in /usr/local/lib/python3.6/dist-packages (0.7.0)\n",
            "Requirement already satisfied: scipy in /usr/local/lib/python3.6/dist-packages (from kneed) (1.4.1)\n",
            "Requirement already satisfied: numpy>=1.14.2 in /usr/local/lib/python3.6/dist-packages (from kneed) (1.19.5)\n",
            "Requirement already satisfied: matplotlib in /usr/local/lib/python3.6/dist-packages (from kneed) (3.2.2)\n",
            "Requirement already satisfied: cycler>=0.10 in /usr/local/lib/python3.6/dist-packages (from matplotlib->kneed) (0.10.0)\n",
            "Requirement already satisfied: pyparsing!=2.0.4,!=2.1.2,!=2.1.6,>=2.0.1 in /usr/local/lib/python3.6/dist-packages (from matplotlib->kneed) (2.4.7)\n",
            "Requirement already satisfied: kiwisolver>=1.0.1 in /usr/local/lib/python3.6/dist-packages (from matplotlib->kneed) (1.3.1)\n",
            "Requirement already satisfied: python-dateutil>=2.1 in /usr/local/lib/python3.6/dist-packages (from matplotlib->kneed) (2.8.1)\n",
            "Requirement already satisfied: six in /usr/local/lib/python3.6/dist-packages (from cycler>=0.10->matplotlib->kneed) (1.15.0)\n"
          ],
          "name": "stdout"
        }
      ]
    },
    {
      "cell_type": "code",
      "metadata": {
        "colab": {
          "base_uri": "https://localhost:8080/"
        },
        "id": "a6vSu4v0RCct",
        "outputId": "c207abab-277b-4f9e-959a-2848d75721dc"
      },
      "source": [
        "df = pd.read_excel('SC_Posts_1.xls', header=None)\r\n",
        "df.columns = ['post']\r\n",
        "\r\n",
        "df.shape"
      ],
      "execution_count": 9,
      "outputs": [
        {
          "output_type": "execute_result",
          "data": {
            "text/plain": [
              "(17946, 1)"
            ]
          },
          "metadata": {
            "tags": []
          },
          "execution_count": 9
        }
      ]
    },
    {
      "cell_type": "code",
      "metadata": {
        "colab": {
          "base_uri": "https://localhost:8080/"
        },
        "id": "IMxV0PNRSpxF",
        "outputId": "947fd27d-e8c2-4c01-f471-3e75f8871ac2"
      },
      "source": [
        "df = df[(df['post'].str.find('FALSE')==-1)]\r\n",
        "df = df[(df['post'].str.find('Comments')==-1)]\r\n",
        "df.shape"
      ],
      "execution_count": 10,
      "outputs": [
        {
          "output_type": "execute_result",
          "data": {
            "text/plain": [
              "(12274, 1)"
            ]
          },
          "metadata": {
            "tags": []
          },
          "execution_count": 10
        }
      ]
    },
    {
      "cell_type": "code",
      "metadata": {
        "colab": {
          "base_uri": "https://localhost:8080/"
        },
        "id": "lsiXLg2CSsXV",
        "outputId": "5dcc248c-98ad-4756-c872-372c4276f72b"
      },
      "source": [
        "# function to preprocess speech\r\n",
        "def clean(text):\r\n",
        "    \r\n",
        "    # removing paragraph numbers\r\n",
        "    text = re.sub('[0-9]+.\\t','',str(text))\r\n",
        "    \r\n",
        "    #text.replace('[^a-zA-Z]', '')\r\n",
        "    #text.replace('[^\\w\\s]', '')\r\n",
        "    #text = re.sub('[^a-zA-Z]', ' ', text)\r\n",
        "    #text = re.sub(r'\\s+', ' ', text)\r\n",
        "    \r\n",
        "    # removing new line characters\r\n",
        "    text = re.sub('\\n ','',str(text))\r\n",
        "    text = re.sub('\\n',' ',str(text))\r\n",
        "    # removing apostrophes\r\n",
        "    text = re.sub(\"'s\",'',str(text))\r\n",
        "    # removing hyphens\r\n",
        "    text = re.sub(\"-\",' ',str(text))\r\n",
        "    text = re.sub(\"— \",'',str(text))\r\n",
        "    # removing quotation marks\r\n",
        "    text = re.sub('\\\"','',str(text))\r\n",
        "    # removing any reference to outside text\r\n",
        "    text = re.sub(\"[\\(\\[].*?[\\)\\]]\", \"\", str(text))\r\n",
        "    \r\n",
        "    return text\r\n",
        "\r\n",
        "# preprocessing speeches\r\n",
        "df['post_clean'] = df['post'].apply(clean)\r\n",
        "df.shape"
      ],
      "execution_count": 11,
      "outputs": [
        {
          "output_type": "execute_result",
          "data": {
            "text/plain": [
              "(12274, 2)"
            ]
          },
          "metadata": {
            "tags": []
          },
          "execution_count": 11
        }
      ]
    },
    {
      "cell_type": "code",
      "metadata": {
        "colab": {
          "base_uri": "https://localhost:8080/",
          "height": 238
        },
        "id": "6U5gjIBDSvKi",
        "outputId": "71108814-0aa2-48be-888e-1341503bad06"
      },
      "source": [
        "def preprocess_sent(tweet):\r\n",
        "    processed_tweet = tweet\r\n",
        "    processed_tweet.replace('[^a-zA-Z]', '')\r\n",
        "    processed_tweet.replace('[^\\w\\s]', '')\r\n",
        "    processed_tweet = re.sub('[^a-zA-Z]', ' ', processed_tweet)\r\n",
        "    processed_tweet = re.sub(r'\\s+', ' ', processed_tweet)\r\n",
        "    return(processed_tweet)\r\n",
        "\r\n",
        "df['Processed_Sent'] = df['post_clean'].apply(lambda x: preprocess_sent(x))\r\n",
        "df.head()"
      ],
      "execution_count": 12,
      "outputs": [
        {
          "output_type": "execute_result",
          "data": {
            "text/html": [
              "<div>\n",
              "<style scoped>\n",
              "    .dataframe tbody tr th:only-of-type {\n",
              "        vertical-align: middle;\n",
              "    }\n",
              "\n",
              "    .dataframe tbody tr th {\n",
              "        vertical-align: top;\n",
              "    }\n",
              "\n",
              "    .dataframe thead th {\n",
              "        text-align: right;\n",
              "    }\n",
              "</style>\n",
              "<table border=\"1\" class=\"dataframe\">\n",
              "  <thead>\n",
              "    <tr style=\"text-align: right;\">\n",
              "      <th></th>\n",
              "      <th>post</th>\n",
              "      <th>post_clean</th>\n",
              "      <th>Processed_Sent</th>\n",
              "    </tr>\n",
              "  </thead>\n",
              "  <tbody>\n",
              "    <tr>\n",
              "      <th>0</th>\n",
              "      <td>Shannon Murray Gormley</td>\n",
              "      <td>Shannon Murray Gormley</td>\n",
              "      <td>Shannon Murray Gormley</td>\n",
              "    </tr>\n",
              "    <tr>\n",
              "      <th>2</th>\n",
              "      <td>Just wanted to let anyone know if you are able...</td>\n",
              "      <td>Just wanted to let anyone know if you are able...</td>\n",
              "      <td>Just wanted to let anyone know if you are able...</td>\n",
              "    </tr>\n",
              "    <tr>\n",
              "      <th>4</th>\n",
              "      <td>Alicia Gottschalk</td>\n",
              "      <td>Alicia Gottschalk</td>\n",
              "      <td>Alicia Gottschalk</td>\n",
              "    </tr>\n",
              "    <tr>\n",
              "      <th>5</th>\n",
              "      <td>My hubby had it last week and it has done wond...</td>\n",
              "      <td>My hubby had it last week and it has done wond...</td>\n",
              "      <td>My hubby had it last week and it has done wond...</td>\n",
              "    </tr>\n",
              "    <tr>\n",
              "      <th>7</th>\n",
              "      <td>Laura Sutera</td>\n",
              "      <td>Laura Sutera</td>\n",
              "      <td>Laura Sutera</td>\n",
              "    </tr>\n",
              "  </tbody>\n",
              "</table>\n",
              "</div>"
            ],
            "text/plain": [
              "                                                post  ...                                     Processed_Sent\n",
              "0                             Shannon Murray Gormley  ...                             Shannon Murray Gormley\n",
              "2  Just wanted to let anyone know if you are able...  ...  Just wanted to let anyone know if you are able...\n",
              "4                                  Alicia Gottschalk  ...                                  Alicia Gottschalk\n",
              "5  My hubby had it last week and it has done wond...  ...  My hubby had it last week and it has done wond...\n",
              "7                                       Laura Sutera  ...                                       Laura Sutera\n",
              "\n",
              "[5 rows x 3 columns]"
            ]
          },
          "metadata": {
            "tags": []
          },
          "execution_count": 12
        }
      ]
    },
    {
      "cell_type": "code",
      "metadata": {
        "colab": {
          "base_uri": "https://localhost:8080/"
        },
        "id": "UwIx89PlS1Za",
        "outputId": "7ad66364-1167-40d0-f887-4d9fce6fd7d0"
      },
      "source": [
        "df = df[df['Processed_Sent'].str.strip().str.len()>0]\r\n",
        "df.shape"
      ],
      "execution_count": 13,
      "outputs": [
        {
          "output_type": "execute_result",
          "data": {
            "text/plain": [
              "(11557, 3)"
            ]
          },
          "metadata": {
            "tags": []
          },
          "execution_count": 13
        }
      ]
    },
    {
      "cell_type": "code",
      "metadata": {
        "id": "TV19Yq0tS6LF"
      },
      "source": [
        "# load english language model\r\n",
        "nlp = spacy.load('en_core_web_sm')"
      ],
      "execution_count": 14,
      "outputs": []
    },
    {
      "cell_type": "code",
      "metadata": {
        "id": "XIcCXCM2TngU"
      },
      "source": [
        "# function to retrieve FIRST person name from post\r\n",
        "\r\n",
        "def get_person_name(text):\r\n",
        "    \r\n",
        "    doc = nlp(text)\r\n",
        "    \r\n",
        "    sent = []\r\n",
        "    \r\n",
        "    persons_count = 0\r\n",
        "    person_names = []\r\n",
        "    prev_person_name_index = -1\r\n",
        "    token_count = 0\r\n",
        "    \r\n",
        "    for token in doc:\r\n",
        "        if (token.ent_type_=='PERSON'):\r\n",
        "          persons_count+= 1\r\n",
        "          if(prev_person_name_index == -1):\r\n",
        "            person_names.append(token.text)\r\n",
        "            prev_person_name_index = token_count\r\n",
        "          else:\r\n",
        "            if((token_count-prev_person_name_index)==1):\r\n",
        "              person_names.append(token.text)\r\n",
        "              prev_person_name_index = token_count\r\n",
        "        token_count += 1\r\n",
        "\r\n",
        "    person_name = ' '.join(person_names)\r\n",
        "\r\n",
        "    return(person_name)"
      ],
      "execution_count": 15,
      "outputs": []
    },
    {
      "cell_type": "code",
      "metadata": {
        "id": "Z9P92Ik1TUEu"
      },
      "source": [
        "# function for checking if post contains only person names\r\n",
        "def check_only_person_names(text):\r\n",
        "    \r\n",
        "    doc = nlp(text)\r\n",
        "    \r\n",
        "    sent = []\r\n",
        "    \r\n",
        "    persons_count = 0\r\n",
        "    for token in doc:\r\n",
        "        if (token.ent_type_=='PERSON'):\r\n",
        "          persons_count+= 1\r\n",
        "\r\n",
        "    return((persons_count == len(doc)))"
      ],
      "execution_count": 16,
      "outputs": []
    },
    {
      "cell_type": "code",
      "metadata": {
        "id": "GOQMpK6HXhPO"
      },
      "source": [
        "df['Person_Name'] = df['Processed_Sent'].apply(lambda x: get_person_name(x))\r\n",
        "df['Is_Only_Person_Name'] = df['Processed_Sent'].apply(lambda x: check_only_person_names(x))"
      ],
      "execution_count": 17,
      "outputs": []
    },
    {
      "cell_type": "code",
      "metadata": {
        "colab": {
          "base_uri": "https://localhost:8080/",
          "height": 255
        },
        "id": "3Lf8lQTAYMv3",
        "outputId": "42ca9313-5bbe-45c7-c3da-5b37b345f689"
      },
      "source": [
        "df.head()"
      ],
      "execution_count": 18,
      "outputs": [
        {
          "output_type": "execute_result",
          "data": {
            "text/html": [
              "<div>\n",
              "<style scoped>\n",
              "    .dataframe tbody tr th:only-of-type {\n",
              "        vertical-align: middle;\n",
              "    }\n",
              "\n",
              "    .dataframe tbody tr th {\n",
              "        vertical-align: top;\n",
              "    }\n",
              "\n",
              "    .dataframe thead th {\n",
              "        text-align: right;\n",
              "    }\n",
              "</style>\n",
              "<table border=\"1\" class=\"dataframe\">\n",
              "  <thead>\n",
              "    <tr style=\"text-align: right;\">\n",
              "      <th></th>\n",
              "      <th>post</th>\n",
              "      <th>post_clean</th>\n",
              "      <th>Processed_Sent</th>\n",
              "      <th>Person_Name</th>\n",
              "      <th>Is_Only_Person_Name</th>\n",
              "    </tr>\n",
              "  </thead>\n",
              "  <tbody>\n",
              "    <tr>\n",
              "      <th>0</th>\n",
              "      <td>Shannon Murray Gormley</td>\n",
              "      <td>Shannon Murray Gormley</td>\n",
              "      <td>Shannon Murray Gormley</td>\n",
              "      <td>Shannon Murray Gormley</td>\n",
              "      <td>True</td>\n",
              "    </tr>\n",
              "    <tr>\n",
              "      <th>2</th>\n",
              "      <td>Just wanted to let anyone know if you are able...</td>\n",
              "      <td>Just wanted to let anyone know if you are able...</td>\n",
              "      <td>Just wanted to let anyone know if you are able...</td>\n",
              "      <td></td>\n",
              "      <td>False</td>\n",
              "    </tr>\n",
              "    <tr>\n",
              "      <th>4</th>\n",
              "      <td>Alicia Gottschalk</td>\n",
              "      <td>Alicia Gottschalk</td>\n",
              "      <td>Alicia Gottschalk</td>\n",
              "      <td>Alicia Gottschalk</td>\n",
              "      <td>True</td>\n",
              "    </tr>\n",
              "    <tr>\n",
              "      <th>5</th>\n",
              "      <td>My hubby had it last week and it has done wond...</td>\n",
              "      <td>My hubby had it last week and it has done wond...</td>\n",
              "      <td>My hubby had it last week and it has done wond...</td>\n",
              "      <td></td>\n",
              "      <td>False</td>\n",
              "    </tr>\n",
              "    <tr>\n",
              "      <th>7</th>\n",
              "      <td>Laura Sutera</td>\n",
              "      <td>Laura Sutera</td>\n",
              "      <td>Laura Sutera</td>\n",
              "      <td>Laura Sutera</td>\n",
              "      <td>True</td>\n",
              "    </tr>\n",
              "  </tbody>\n",
              "</table>\n",
              "</div>"
            ],
            "text/plain": [
              "                                                post  ... Is_Only_Person_Name\n",
              "0                             Shannon Murray Gormley  ...                True\n",
              "2  Just wanted to let anyone know if you are able...  ...               False\n",
              "4                                  Alicia Gottschalk  ...                True\n",
              "5  My hubby had it last week and it has done wond...  ...               False\n",
              "7                                       Laura Sutera  ...                True\n",
              "\n",
              "[5 rows x 5 columns]"
            ]
          },
          "metadata": {
            "tags": []
          },
          "execution_count": 18
        }
      ]
    },
    {
      "cell_type": "code",
      "metadata": {
        "colab": {
          "base_uri": "https://localhost:8080/",
          "height": 839
        },
        "id": "av5cYqpEZ874",
        "outputId": "e3b2de94-623d-4421-d4b1-72a53ea187ea"
      },
      "source": [
        "df.sample(20)"
      ],
      "execution_count": 19,
      "outputs": [
        {
          "output_type": "execute_result",
          "data": {
            "text/html": [
              "<div>\n",
              "<style scoped>\n",
              "    .dataframe tbody tr th:only-of-type {\n",
              "        vertical-align: middle;\n",
              "    }\n",
              "\n",
              "    .dataframe tbody tr th {\n",
              "        vertical-align: top;\n",
              "    }\n",
              "\n",
              "    .dataframe thead th {\n",
              "        text-align: right;\n",
              "    }\n",
              "</style>\n",
              "<table border=\"1\" class=\"dataframe\">\n",
              "  <thead>\n",
              "    <tr style=\"text-align: right;\">\n",
              "      <th></th>\n",
              "      <th>post</th>\n",
              "      <th>post_clean</th>\n",
              "      <th>Processed_Sent</th>\n",
              "      <th>Person_Name</th>\n",
              "      <th>Is_Only_Person_Name</th>\n",
              "    </tr>\n",
              "  </thead>\n",
              "  <tbody>\n",
              "    <tr>\n",
              "      <th>12899</th>\n",
              "      <td>That said, I'm not gonna lie: I thought \"bamla...</td>\n",
              "      <td>That said, I'm not gonna lie: I thought bamlan...</td>\n",
              "      <td>That said I m not gonna lie I thought bamlaniv...</td>\n",
              "      <td></td>\n",
              "      <td>False</td>\n",
              "    </tr>\n",
              "    <tr>\n",
              "      <th>2301</th>\n",
              "      <td>Shantell Sheffield</td>\n",
              "      <td>Shantell Sheffield</td>\n",
              "      <td>Shantell Sheffield</td>\n",
              "      <td></td>\n",
              "      <td>False</td>\n",
              "    </tr>\n",
              "    <tr>\n",
              "      <th>1479</th>\n",
              "      <td>Thank you for sharing your story. ??????</td>\n",
              "      <td>Thank you for sharing your story. ??????</td>\n",
              "      <td>Thank you for sharing your story</td>\n",
              "      <td></td>\n",
              "      <td>False</td>\n",
              "    </tr>\n",
              "    <tr>\n",
              "      <th>3528</th>\n",
              "      <td>Tina Fedasz Addo I edited my response above I ...</td>\n",
              "      <td>Tina Fedasz Addo I edited my response above I ...</td>\n",
              "      <td>Tina Fedasz Addo I edited my response above I ...</td>\n",
              "      <td>Tina Fedasz</td>\n",
              "      <td>False</td>\n",
              "    </tr>\n",
              "    <tr>\n",
              "      <th>8659</th>\n",
              "      <td>Hope my answers got counted</td>\n",
              "      <td>Hope my answers got counted</td>\n",
              "      <td>Hope my answers got counted</td>\n",
              "      <td></td>\n",
              "      <td>False</td>\n",
              "    </tr>\n",
              "    <tr>\n",
              "      <th>10155</th>\n",
              "      <td>Daniel Chulpayev</td>\n",
              "      <td>Daniel Chulpayev</td>\n",
              "      <td>Daniel Chulpayev</td>\n",
              "      <td>Daniel Chulpayev</td>\n",
              "      <td>True</td>\n",
              "    </tr>\n",
              "    <tr>\n",
              "      <th>3493</th>\n",
              "      <td>Rita Bissell</td>\n",
              "      <td>Rita Bissell</td>\n",
              "      <td>Rita Bissell</td>\n",
              "      <td>Rita Bissell</td>\n",
              "      <td>True</td>\n",
              "    </tr>\n",
              "    <tr>\n",
              "      <th>11224</th>\n",
              "      <td>Sarah Lisa Kniseley</td>\n",
              "      <td>Sarah Lisa Kniseley</td>\n",
              "      <td>Sarah Lisa Kniseley</td>\n",
              "      <td>Sarah Lisa Kniseley</td>\n",
              "      <td>True</td>\n",
              "    </tr>\n",
              "    <tr>\n",
              "      <th>3650</th>\n",
              "      <td>Kimberly Parker</td>\n",
              "      <td>Kimberly Parker</td>\n",
              "      <td>Kimberly Parker</td>\n",
              "      <td>Kimberly Parker</td>\n",
              "      <td>True</td>\n",
              "    </tr>\n",
              "    <tr>\n",
              "      <th>12841</th>\n",
              "      <td>How can one be eligible?</td>\n",
              "      <td>How can one be eligible?</td>\n",
              "      <td>How can one be eligible</td>\n",
              "      <td></td>\n",
              "      <td>False</td>\n",
              "    </tr>\n",
              "    <tr>\n",
              "      <th>8522</th>\n",
              "      <td>Never ??</td>\n",
              "      <td>Never ??</td>\n",
              "      <td>Never</td>\n",
              "      <td></td>\n",
              "      <td>False</td>\n",
              "    </tr>\n",
              "    <tr>\n",
              "      <th>14738</th>\n",
              "      <td>Natalie Murphy</td>\n",
              "      <td>Natalie Murphy</td>\n",
              "      <td>Natalie Murphy</td>\n",
              "      <td>Natalie Murphy</td>\n",
              "      <td>True</td>\n",
              "    </tr>\n",
              "    <tr>\n",
              "      <th>5630</th>\n",
              "      <td>Doris Rivera</td>\n",
              "      <td>Doris Rivera</td>\n",
              "      <td>Doris Rivera</td>\n",
              "      <td></td>\n",
              "      <td>False</td>\n",
              "    </tr>\n",
              "    <tr>\n",
              "      <th>13192</th>\n",
              "      <td>Lord hear our prayers for healing</td>\n",
              "      <td>Lord hear our prayers for healing</td>\n",
              "      <td>Lord hear our prayers for healing</td>\n",
              "      <td></td>\n",
              "      <td>False</td>\n",
              "    </tr>\n",
              "    <tr>\n",
              "      <th>15841</th>\n",
              "      <td>Ed Mahoney</td>\n",
              "      <td>Ed Mahoney</td>\n",
              "      <td>Ed Mahoney</td>\n",
              "      <td>Ed Mahoney</td>\n",
              "      <td>True</td>\n",
              "    </tr>\n",
              "    <tr>\n",
              "      <th>12249</th>\n",
              "      <td>Nancy Iamfabulous Acquafresca</td>\n",
              "      <td>Nancy Iamfabulous Acquafresca</td>\n",
              "      <td>Nancy Iamfabulous Acquafresca</td>\n",
              "      <td>Nancy Iamfabulous</td>\n",
              "      <td>False</td>\n",
              "    </tr>\n",
              "    <tr>\n",
              "      <th>13328</th>\n",
              "      <td>Talley Kennedy</td>\n",
              "      <td>Talley Kennedy</td>\n",
              "      <td>Talley Kennedy</td>\n",
              "      <td>Talley Kennedy</td>\n",
              "      <td>True</td>\n",
              "    </tr>\n",
              "    <tr>\n",
              "      <th>4911</th>\n",
              "      <td>Leah Applebaum</td>\n",
              "      <td>Leah Applebaum</td>\n",
              "      <td>Leah Applebaum</td>\n",
              "      <td>Leah Applebaum</td>\n",
              "      <td>True</td>\n",
              "    </tr>\n",
              "    <tr>\n",
              "      <th>6586</th>\n",
              "      <td>Inga Clark</td>\n",
              "      <td>Inga Clark</td>\n",
              "      <td>Inga Clark</td>\n",
              "      <td>Inga Clark</td>\n",
              "      <td>True</td>\n",
              "    </tr>\n",
              "    <tr>\n",
              "      <th>7033</th>\n",
              "      <td>Linda Higgins Padvaiskas</td>\n",
              "      <td>Linda Higgins Padvaiskas</td>\n",
              "      <td>Linda Higgins Padvaiskas</td>\n",
              "      <td>Linda Higgins Padvaiskas</td>\n",
              "      <td>True</td>\n",
              "    </tr>\n",
              "  </tbody>\n",
              "</table>\n",
              "</div>"
            ],
            "text/plain": [
              "                                                    post  ... Is_Only_Person_Name\n",
              "12899  That said, I'm not gonna lie: I thought \"bamla...  ...               False\n",
              "2301                                  Shantell Sheffield  ...               False\n",
              "1479            Thank you for sharing your story. ??????  ...               False\n",
              "3528   Tina Fedasz Addo I edited my response above I ...  ...               False\n",
              "8659                         Hope my answers got counted  ...               False\n",
              "10155                                   Daniel Chulpayev  ...                True\n",
              "3493                                        Rita Bissell  ...                True\n",
              "11224                                Sarah Lisa Kniseley  ...                True\n",
              "3650                                     Kimberly Parker  ...                True\n",
              "12841                           How can one be eligible?  ...               False\n",
              "8522                                            Never ??  ...               False\n",
              "14738                                     Natalie Murphy  ...                True\n",
              "5630                                        Doris Rivera  ...               False\n",
              "13192                  Lord hear our prayers for healing  ...               False\n",
              "15841                                         Ed Mahoney  ...                True\n",
              "12249                      Nancy Iamfabulous Acquafresca  ...               False\n",
              "13328                                     Talley Kennedy  ...                True\n",
              "4911                                      Leah Applebaum  ...                True\n",
              "6586                                          Inga Clark  ...                True\n",
              "7033                            Linda Higgins Padvaiskas  ...                True\n",
              "\n",
              "[20 rows x 5 columns]"
            ]
          },
          "metadata": {
            "tags": []
          },
          "execution_count": 19
        }
      ]
    },
    {
      "cell_type": "code",
      "metadata": {
        "colab": {
          "base_uri": "https://localhost:8080/"
        },
        "id": "UJiWWDZ1aB1t",
        "outputId": "d4e94055-0e69-48de-cf1e-9aad4f26f4e6"
      },
      "source": [
        "# Total number of people present in post (those who posted/commented + those referred in post by others)\r\n",
        "\r\n",
        "total_number_of_people = len(set(list(df['Person_Name'])))\r\n",
        "total_number_of_people"
      ],
      "execution_count": 20,
      "outputs": [
        {
          "output_type": "execute_result",
          "data": {
            "text/plain": [
              "2845"
            ]
          },
          "metadata": {
            "tags": []
          },
          "execution_count": 20
        }
      ]
    },
    {
      "cell_type": "code",
      "metadata": {
        "id": "UE23tbmeae9L"
      },
      "source": [
        "# Removing those entries where only person names are present in post\r\n",
        "\r\n",
        "df = df[df['Is_Only_Person_Name']==False]"
      ],
      "execution_count": 21,
      "outputs": []
    },
    {
      "cell_type": "code",
      "metadata": {
        "id": "X6B9mrfAgo04"
      },
      "source": [
        "# Removing duplicate posts\r\n",
        "\r\n",
        "df = df.drop_duplicates(subset = [\"Processed_Sent\"])"
      ],
      "execution_count": 22,
      "outputs": []
    },
    {
      "cell_type": "code",
      "metadata": {
        "colab": {
          "base_uri": "https://localhost:8080/"
        },
        "id": "8MX7sRpObxmq",
        "outputId": "0628d72c-4300-4e8a-b8f4-3a963f44c4c2"
      },
      "source": [
        "# Final posts to be considered for similarities and further processing\r\n",
        "\r\n",
        "df.shape"
      ],
      "execution_count": 23,
      "outputs": [
        {
          "output_type": "execute_result",
          "data": {
            "text/plain": [
              "(5290, 5)"
            ]
          },
          "metadata": {
            "tags": []
          },
          "execution_count": 23
        }
      ]
    },
    {
      "cell_type": "code",
      "metadata": {
        "colab": {
          "base_uri": "https://localhost:8080/",
          "height": 478
        },
        "id": "Ec8xKU1Vb5oi",
        "outputId": "c68537ed-672a-489b-abcd-5e5773fe66b2"
      },
      "source": [
        "df.sample(10)"
      ],
      "execution_count": 24,
      "outputs": [
        {
          "output_type": "execute_result",
          "data": {
            "text/html": [
              "<div>\n",
              "<style scoped>\n",
              "    .dataframe tbody tr th:only-of-type {\n",
              "        vertical-align: middle;\n",
              "    }\n",
              "\n",
              "    .dataframe tbody tr th {\n",
              "        vertical-align: top;\n",
              "    }\n",
              "\n",
              "    .dataframe thead th {\n",
              "        text-align: right;\n",
              "    }\n",
              "</style>\n",
              "<table border=\"1\" class=\"dataframe\">\n",
              "  <thead>\n",
              "    <tr style=\"text-align: right;\">\n",
              "      <th></th>\n",
              "      <th>post</th>\n",
              "      <th>post_clean</th>\n",
              "      <th>Processed_Sent</th>\n",
              "      <th>Person_Name</th>\n",
              "      <th>Is_Only_Person_Name</th>\n",
              "    </tr>\n",
              "  </thead>\n",
              "  <tbody>\n",
              "    <tr>\n",
              "      <th>16900</th>\n",
              "      <td>Sallyann Holland I lived in NJ too. I'm origin...</td>\n",
              "      <td>Sallyann Holland I lived in NJ too. I'm origin...</td>\n",
              "      <td>Sallyann Holland I lived in NJ too I m origina...</td>\n",
              "      <td>Sallyann Holland</td>\n",
              "      <td>False</td>\n",
              "    </tr>\n",
              "    <tr>\n",
              "      <th>16768</th>\n",
              "      <td>Plus like... Some people in this thread almost...</td>\n",
              "      <td>Plus like... Some people in this thread almost...</td>\n",
              "      <td>Plus like Some people in this thread almost di...</td>\n",
              "      <td></td>\n",
              "      <td>False</td>\n",
              "    </tr>\n",
              "    <tr>\n",
              "      <th>9405</th>\n",
              "      <td>That headache I had to go to er they gave me s...</td>\n",
              "      <td>That headache I had to go to er they gave me s...</td>\n",
              "      <td>That headache I had to go to er they gave me s...</td>\n",
              "      <td></td>\n",
              "      <td>False</td>\n",
              "    </tr>\n",
              "    <tr>\n",
              "      <th>12683</th>\n",
              "      <td>Hang in there !!! I had very bad symptoms post...</td>\n",
              "      <td>Hang in there !!! I had very bad symptoms post...</td>\n",
              "      <td>Hang in there I had very bad symptoms post vac...</td>\n",
              "      <td></td>\n",
              "      <td>False</td>\n",
              "    </tr>\n",
              "    <tr>\n",
              "      <th>527</th>\n",
              "      <td>Randi Gilbert DeMinno she has leukemia. She is...</td>\n",
              "      <td>Randi Gilbert DeMinno she has leukemia. She is...</td>\n",
              "      <td>Randi Gilbert DeMinno she has leukemia She is ...</td>\n",
              "      <td>Randi Gilbert DeMinno</td>\n",
              "      <td>False</td>\n",
              "    </tr>\n",
              "    <tr>\n",
              "      <th>3792</th>\n",
              "      <td>WHO.INT</td>\n",
              "      <td>WHO.INT</td>\n",
              "      <td>WHO INT</td>\n",
              "      <td></td>\n",
              "      <td>False</td>\n",
              "    </tr>\n",
              "    <tr>\n",
              "      <th>5092</th>\n",
              "      <td>Godspeed ! ??</td>\n",
              "      <td>Godspeed ! ??</td>\n",
              "      <td>Godspeed</td>\n",
              "      <td></td>\n",
              "      <td>False</td>\n",
              "    </tr>\n",
              "    <tr>\n",
              "      <th>16857</th>\n",
              "      <td>Eileen Tarrell I'm glad to hear that. Wishing ...</td>\n",
              "      <td>Eileen Tarrell I'm glad to hear that. Wishing ...</td>\n",
              "      <td>Eileen Tarrell I m glad to hear that Wishing y...</td>\n",
              "      <td></td>\n",
              "      <td>False</td>\n",
              "    </tr>\n",
              "    <tr>\n",
              "      <th>100</th>\n",
              "      <td>I said from day 1 they should be giving them! ...</td>\n",
              "      <td>I said from day 1 they should be giving them! ...</td>\n",
              "      <td>I said from day they should be giving them RN ...</td>\n",
              "      <td></td>\n",
              "      <td>False</td>\n",
              "    </tr>\n",
              "    <tr>\n",
              "      <th>1618</th>\n",
              "      <td>About</td>\n",
              "      <td>About</td>\n",
              "      <td>About</td>\n",
              "      <td></td>\n",
              "      <td>False</td>\n",
              "    </tr>\n",
              "  </tbody>\n",
              "</table>\n",
              "</div>"
            ],
            "text/plain": [
              "                                                    post  ... Is_Only_Person_Name\n",
              "16900  Sallyann Holland I lived in NJ too. I'm origin...  ...               False\n",
              "16768  Plus like... Some people in this thread almost...  ...               False\n",
              "9405   That headache I had to go to er they gave me s...  ...               False\n",
              "12683  Hang in there !!! I had very bad symptoms post...  ...               False\n",
              "527    Randi Gilbert DeMinno she has leukemia. She is...  ...               False\n",
              "3792                                             WHO.INT  ...               False\n",
              "5092                                       Godspeed ! ??  ...               False\n",
              "16857  Eileen Tarrell I'm glad to hear that. Wishing ...  ...               False\n",
              "100    I said from day 1 they should be giving them! ...  ...               False\n",
              "1618                                               About  ...               False\n",
              "\n",
              "[10 rows x 5 columns]"
            ]
          },
          "metadata": {
            "tags": []
          },
          "execution_count": 24
        }
      ]
    },
    {
      "cell_type": "code",
      "metadata": {
        "id": "skYpLGeTb_Y4"
      },
      "source": [
        "# Column to be utilized is Processed_Sent"
      ],
      "execution_count": 25,
      "outputs": []
    },
    {
      "cell_type": "code",
      "metadata": {
        "colab": {
          "base_uri": "https://localhost:8080/"
        },
        "id": "WXBBtsapOM0H",
        "outputId": "1059cf07-a74f-43a3-cf76-b1e831f545d3"
      },
      "source": [
        "unique_posts = list(df['Processed_Sent'])\r\n",
        "len(unique_posts)"
      ],
      "execution_count": 26,
      "outputs": [
        {
          "output_type": "execute_result",
          "data": {
            "text/plain": [
              "5290"
            ]
          },
          "metadata": {
            "tags": []
          },
          "execution_count": 26
        }
      ]
    },
    {
      "cell_type": "code",
      "metadata": {
        "colab": {
          "base_uri": "https://localhost:8080/",
          "height": 262,
          "referenced_widgets": [
            "ec6f22d080c045629f27ca25d74c5806",
            "aedf2105394e445e98c7fa7617a59e8a",
            "8abf4e3f5a9a465bb251936e45cc377c",
            "85ec6748defa41a8844b59e3f236663c",
            "f32925543e264ec182eacff69bd3dba1",
            "c8fdfb1a409d4e90b19696f1d5528fc2",
            "44da2353660a4b4a9f13e1d7b9abbf36",
            "385397dd0a0d456494ecf096b22356a6",
            "951b1a3954da47adb7f860716a988c6a",
            "162c70cb80684831b4d679181420e851",
            "681b4b93ae034929a09ccafeff597e55",
            "bbdce6114f614e5bb79a837c2502cf32",
            "902eba54a23b47729803a3a6bbfd0443",
            "185d608640a246ba999e960bf7b4bc6a",
            "8cb6e930c5be4a658e10eedcfe47d8d0",
            "26744c5df458479d9ab1a3ffff2bf7ad",
            "05b6be7899c54eaf9c9ae6d0ea859b7d",
            "3fc844fe749a45888cdd3c3fdf251272",
            "35bd3ee03e3d41a0b2f4a1f39b8e96e1",
            "05c4cac5c2bc41469e746cef85401b0c",
            "8ba5546a8d594fb18a51a9f64f2b8f27",
            "2320cf31b6714be08fa69506bdcd7d9f",
            "173c913aaf444aee84e25b135a420820",
            "ccb752bc6e9f48edbfbfd6fc865a4c5d",
            "1ab87dc8fb7c43c086c9e7ab7f49b71f",
            "d888504b64964993a3a84aedf90f11cb",
            "48c9710bc91041a69e1fa2dfac2012da",
            "bebbf710f36142cfbb78099d2cec4256",
            "054b7f97f6734c4693ab04d2c9c898a2",
            "ed7200ddc5bf44c6961ab24427d1e769",
            "133ca63ea5754a77ac9d8f7e34c68582",
            "64b90e8f228c4892823a8a9657362f44",
            "74a54c0134134681b9e3f6f36f71f49b",
            "c5db5318014b433d9806fd0867e2899b",
            "a5128cd5b2714498abe66f5c7cb57fde",
            "2ad6de4f5842464783827132c00d1210",
            "e50225df03b34858894741f34489157c",
            "eedf83f43781481b9dc8724620d5be01",
            "bfda848bc3c7423ca492179136592b1b",
            "08c2960cd4d944da99fb1fd7eb173efe"
          ]
        },
        "id": "R48BjvlgFNFM",
        "outputId": "0a5e4d17-a1be-40a6-f516-723824096274"
      },
      "source": [
        "from sentence_transformers import CrossEncoder\r\n",
        "model = CrossEncoder('cross-encoder/ms-marco-TinyBERT-L-2')"
      ],
      "execution_count": 27,
      "outputs": [
        {
          "output_type": "display_data",
          "data": {
            "application/vnd.jupyter.widget-view+json": {
              "model_id": "ec6f22d080c045629f27ca25d74c5806",
              "version_minor": 0,
              "version_major": 2
            },
            "text/plain": [
              "HBox(children=(FloatProgress(value=0.0, description='Downloading', max=612.0, style=ProgressStyle(description_…"
            ]
          },
          "metadata": {
            "tags": []
          }
        },
        {
          "output_type": "stream",
          "text": [
            "\n"
          ],
          "name": "stdout"
        },
        {
          "output_type": "display_data",
          "data": {
            "application/vnd.jupyter.widget-view+json": {
              "model_id": "951b1a3954da47adb7f860716a988c6a",
              "version_minor": 0,
              "version_major": 2
            },
            "text/plain": [
              "HBox(children=(FloatProgress(value=0.0, description='Downloading', max=17565609.0, style=ProgressStyle(descrip…"
            ]
          },
          "metadata": {
            "tags": []
          }
        },
        {
          "output_type": "stream",
          "text": [
            "\n"
          ],
          "name": "stdout"
        },
        {
          "output_type": "display_data",
          "data": {
            "application/vnd.jupyter.widget-view+json": {
              "model_id": "05b6be7899c54eaf9c9ae6d0ea859b7d",
              "version_minor": 0,
              "version_major": 2
            },
            "text/plain": [
              "HBox(children=(FloatProgress(value=0.0, description='Downloading', max=231508.0, style=ProgressStyle(descripti…"
            ]
          },
          "metadata": {
            "tags": []
          }
        },
        {
          "output_type": "stream",
          "text": [
            "\n"
          ],
          "name": "stdout"
        },
        {
          "output_type": "display_data",
          "data": {
            "application/vnd.jupyter.widget-view+json": {
              "model_id": "1ab87dc8fb7c43c086c9e7ab7f49b71f",
              "version_minor": 0,
              "version_major": 2
            },
            "text/plain": [
              "HBox(children=(FloatProgress(value=0.0, description='Downloading', max=112.0, style=ProgressStyle(description_…"
            ]
          },
          "metadata": {
            "tags": []
          }
        },
        {
          "output_type": "stream",
          "text": [
            "\n"
          ],
          "name": "stdout"
        },
        {
          "output_type": "display_data",
          "data": {
            "application/vnd.jupyter.widget-view+json": {
              "model_id": "74a54c0134134681b9e3f6f36f71f49b",
              "version_minor": 0,
              "version_major": 2
            },
            "text/plain": [
              "HBox(children=(FloatProgress(value=0.0, description='Downloading', max=543.0, style=ProgressStyle(description_…"
            ]
          },
          "metadata": {
            "tags": []
          }
        },
        {
          "output_type": "stream",
          "text": [
            "\n"
          ],
          "name": "stdout"
        }
      ]
    },
    {
      "cell_type": "code",
      "metadata": {
        "id": "7JY4k4umFQJL"
      },
      "source": [
        "queries = [\"received Infusion\", \"received antibodies\", \"received regeneron\", \"received eli lilly\", \"received bamlanivimab\"]\r\n",
        "passages = list(df['Processed_Sent'])"
      ],
      "execution_count": 28,
      "outputs": []
    },
    {
      "cell_type": "code",
      "metadata": {
        "colab": {
          "base_uri": "https://localhost:8080/"
        },
        "id": "bRU6BUj9Fx-q",
        "outputId": "c0f00190-f5b9-43c1-90ac-8de7dd7c55d8"
      },
      "source": [
        "matching_queries_dict = {}\r\n",
        "matching_posts_count = 0\r\n",
        "\r\n",
        "#Search in a loop for the individual queries\r\n",
        "for query in queries:\r\n",
        "    matching_tuples = []\r\n",
        "    start_time = time.time()\r\n",
        "\r\n",
        "    #Concatenate the query and all passages and predict the scores for the pairs [query, passage]\r\n",
        "    model_inputs = [[query, passage] for passage in passages]\r\n",
        "    scores = model.predict(model_inputs)\r\n",
        "\r\n",
        "    #Sort the scores in decreasing order\r\n",
        "    results = [{'input': inp, 'score': score} for inp, score in zip(model_inputs, scores)]\r\n",
        "    results = sorted(results, key=lambda x: x['score'], reverse=True)\r\n",
        "\r\n",
        "    print(\"Query:\", query)\r\n",
        "    print(\"Search took {:.2f} seconds\".format(time.time() - start_time))\r\n",
        "\r\n",
        "    for hit in results:\r\n",
        "        if(float((\"{:.2f}\".format(hit['score']))) > 0):\r\n",
        "          matching_tuple = (hit['input'][1], float((\"{:.2f}\".format(hit['score']))))\r\n",
        "          matching_tuples.append(matching_tuple)\r\n",
        "\r\n",
        "    matching_queries_dict[query] = matching_tuples\r\n",
        "    matching_posts_count += len(matching_tuples)\r\n",
        "    print(\"Number of Matching Posts:\", len(matching_tuples))\r\n",
        "    print(\"==========\")\r\n",
        "\r\n",
        "print('\\n')\r\n",
        "print('For ',len(queries),' Queries, Total Matching Posts: ',matching_posts_count)"
      ],
      "execution_count": 30,
      "outputs": [
        {
          "output_type": "stream",
          "text": [
            "Query: received Infusion\n",
            "Search took 27.51 seconds\n",
            "Number of Matching Posts: 280\n",
            "==========\n",
            "Query: received antibodies\n",
            "Search took 27.15 seconds\n",
            "Number of Matching Posts: 293\n",
            "==========\n",
            "Query: received regeneron\n",
            "Search took 27.40 seconds\n",
            "Number of Matching Posts: 196\n",
            "==========\n",
            "Query: received eli lilly\n",
            "Search took 27.86 seconds\n",
            "Number of Matching Posts: 30\n",
            "==========\n",
            "Query: received bamlanivimab\n",
            "Search took 28.71 seconds\n",
            "Number of Matching Posts: 82\n",
            "==========\n",
            "\n",
            "\n",
            "For  5  Queries, Total Matching Posts:  881\n"
          ],
          "name": "stdout"
        }
      ]
    },
    {
      "cell_type": "code",
      "metadata": {
        "id": "dzdhfB7PMSvc"
      },
      "source": [
        "matched_posts_dfs = []\r\n",
        "for query_matched in matching_queries_dict.keys():\r\n",
        "  matched_tuples = matching_queries_dict[query_matched]\r\n",
        "  matched_tuple_df = pd.DataFrame({'Match_Count':([x for x in range(len(matched_tuples))]), 'Processed_Sent':[i[0] for i in matched_tuples], 'Score':[i[1] for i in matched_tuples]})\r\n",
        "  matched_tuple_df.sort_values(by=['Score'], ascending=False, inplace=True)\r\n",
        "  matched_posts_dfs.append(matched_tuple_df)"
      ],
      "execution_count": 37,
      "outputs": []
    },
    {
      "cell_type": "code",
      "metadata": {
        "colab": {
          "base_uri": "https://localhost:8080/"
        },
        "id": "Iu-QjWNfNbIE",
        "outputId": "3f5cde6a-0708-4c06-942c-ffbd9c32ad32"
      },
      "source": [
        "# Find knee in every df and collect all matching posts (Processed_Sent) in a list\r\n",
        "\r\n",
        "matching_posts_list = []\r\n",
        "\r\n",
        "matched_df_count = 0\r\n",
        "for matched_post_df in matched_posts_dfs:\r\n",
        "  x = matched_post_df['Match_Count']\r\n",
        "  y = matched_post_df['Score']\r\n",
        "  elbow = -1\r\n",
        "  curve_type_direction_list = [('convex','decreasing'), ('convex''increasing'), ('concave','decreasing'), ('concave','increasing')]\r\n",
        "  for combination in curve_type_direction_list:\r\n",
        "    kn = KneeLocator(x, y, curve=combination[0], direction=combination[1])\r\n",
        "    if((kn.knee > 0) & (kn.knee < (len(x)-1))):\r\n",
        "      elbow = kn.knee\r\n",
        "      print('For DF: ', matched_df_count, ', Eblow at: ', elbow, ' for ', combination[0], '-', combination[1])\r\n",
        "      break\r\n",
        "  if(elbow > -1):\r\n",
        "    current_matching_posts = list(matched_post_df['Processed_Sent'][:elbow])\r\n",
        "    matching_posts_list.extend(current_matching_posts)\r\n",
        "  matched_df_count += 1\r\n",
        "\r\n",
        "print('\\n')\r\n",
        "print('Total Number of Matching Posts after Elbow: ', len(matching_posts_list))"
      ],
      "execution_count": 39,
      "outputs": [
        {
          "output_type": "stream",
          "text": [
            "For DF:  0 , Eblow at:  23  for  convex - decreasing\n",
            "For DF:  1 , Eblow at:  31  for  convex - decreasing\n",
            "For DF:  2 , Eblow at:  16  for  convex - decreasing\n",
            "For DF:  3 , Eblow at:  5  for  convex - decreasing\n",
            "For DF:  4 , Eblow at:  10  for  convex - decreasing\n",
            "\n",
            "\n",
            "Total Number of Matching Posts after Elbow:  85\n"
          ],
          "name": "stdout"
        }
      ]
    },
    {
      "cell_type": "code",
      "metadata": {
        "colab": {
          "base_uri": "https://localhost:8080/"
        },
        "id": "hXxfm7UQRzC8",
        "outputId": "3a332e01-35bc-49bd-fc54-f840681d43d0"
      },
      "source": [
        "matching_posts_list = list(set(matching_posts_list))\r\n",
        "print('Total Number of Unique Matching Posts: ', len(matching_posts_list))"
      ],
      "execution_count": 41,
      "outputs": [
        {
          "output_type": "stream",
          "text": [
            "Total Number of Unique Matching Posts:  65\n"
          ],
          "name": "stdout"
        }
      ]
    },
    {
      "cell_type": "code",
      "metadata": {
        "colab": {
          "base_uri": "https://localhost:8080/"
        },
        "id": "X8aOKGWyR59g",
        "outputId": "e50923e5-2102-491e-a3e0-e42120b69b6a"
      },
      "source": [
        "list(matching_posts_list)"
      ],
      "execution_count": 42,
      "outputs": [
        {
          "output_type": "execute_result",
          "data": {
            "text/plain": [
              "['Ruth Adelman mine was separated by mos and I haven t had antibodies since July',\n",
              " 'Robyn Snyder monoclonal antibodies ',\n",
              " 'Praise God prayers answered ',\n",
              " 'He had antibody treatment day two God please protect him ',\n",
              " 'Jessica Garza Monoclonal antibodies are laboratory made proteins that mimic the immune system ability to fight off harmful antigens such as viruses Bamlanivimab is a monoclonal antibody that is specifically directed against the spike protein of SARS CoV designed to block the virus attachment and entry into human cells ',\n",
              " 'Diane Sater he received the one produced by Regeneron Eli Lilly has bamlanivimab available also which I believe is being more widely used right now',\n",
              " 'Today I received the monoclonal antibodies treatment for Covid complication prevention The government has spent an unbelievable amount of money on these treatments and they re going widely underutilized partially due to the lack of public awareness ',\n",
              " 'I received this but I m curious some MDs are saying the use of these antibodies caused the new strain that spreads rapidly definitely interested in future research ',\n",
              " 'Michelle Gacheny Kidd yes what Ameera Farooq Khan said ',\n",
              " 'That said I m not gonna lie I thought bamlanivimab was a Black Betty meme joke ',\n",
              " 'My wife and I received this infusion on I am and my wife is You have to receive it within the first days you have Covid We were blessed to receive it ',\n",
              " 'An Experimental Drug Protects Covid Patients Eli Lilly Claims',\n",
              " 'I went to ER Jan Checked myself in for a BAM infusion at direction of my dr on a late night call He thinks it saved me My lungs were highly inflamed Had remdesavir days in hospital Just off oxygen Jan th n feeling stronger ',\n",
              " 'Have they tried Regeneron ',\n",
              " 'COVID LILLY COM',\n",
              " 'My insurance won t pay for ivig infusions My dr has spent many hrs trying to convince ins Company Sent them numerous articles Still denied treatment What convinced your ins to pay ',\n",
              " 'M Joyce Sassone Asselta yes and the hospitalist said the reg cov is not indicated for patients in hospital on oxygen and plasma ',\n",
              " 'I took the bamlanivimab infusion Wednesday of this week due to certain medical conditions that impact my immune system I don t personally feel it has helped The day of and day after were rough with shaking high fever and feeling worse which likely was the drug trying to build some sort of immune response I think it didn t work for me because they waited so long to give it It was such a mess then a long holiday weekend I received it day or following start of symptoms ',\n",
              " 'The dr at my urgent care prescribed bamlanivimab for patients and underlying health risks He did not know that under can also get it with a BMI of or over The FDA emergency use authoriztion has clear directions of how to determine who qualifies It must be received before days of symptoms ',\n",
              " 'We pre paid for vials of it ',\n",
              " 'I donated and had the antibodies test ',\n",
              " 'I received the monoclonal antibodies No side effects I had a mild case of covid but based on my history it was offered to me in hopes that I wouldn t get any worse And I didn t get any worse ',\n",
              " 'My dad was brought to the ER yesterday because of profuse sweating and dizziness His blood pressure was very low They hydrated him and stabilized his bp He tested positive for COVID and has COVID pneumonia They gave him an iv antibody treatment and released him last night Just looking for outcomes of anyone with COVID pneumonia who received an antibody treatment Thank you ',\n",
              " 'Robyn Snyder IV infused monoclonal antibodies to Covid made by companies like Regeneron that got ',\n",
              " 'The monoclonal antibody infusion seems to be the most promising treatment available It not widely available yet She is very fortunate to receive this IV ',\n",
              " 'I joined the Regeneron Remdisivir double blind research study on outpatient treatment My choice was to receive the Regeneron monoclonal antibodies I got my infusion yesterday of Regeneron It is a one time infusion I believe I got the real drug because my blinding day severe headache was gone in hours The Remdisivir option would have been a day course of infusions ',\n",
              " 'Regeneron REGN CoV antibody cocktail consists of monoclonal antibodies from convalescent plasma of CoV infected patients and the other from a mouse genetically engineered to have a human immune system The mouse was exposed to CoV spike protein and like humans it produced an antibody to the virus ',\n",
              " 'Monoclonal antibodies are laboratory made proteins that mimic the immune system ability to fight off harmful pathogens such as viruses Casirivimab and imdevimab are monoclonal antibodies that are specifically directed against the spike protein of SARS CoV designed to block the virus attachment and entry into human cells ',\n",
              " 'On Monday she received the antibody treatment it did not go well She had a severe reaction to it The doctors feel it is because of the infected port area and the lack of white blood cells ',\n",
              " 'Sadly I was still not taken seriously after positive antibody tests thus I did not receive better care Everything else pertains to me though ',\n",
              " 'https www nbcnews com fda authorizes eli lilly s ',\n",
              " 'While hospitalized for Covid bilateral pneumonia and acute hypoxia I received five Remdesiver infusions in August days hospitalization and days in isolation Tolerated each infusion without any effects ',\n",
              " 'Tested positive for the second time yesterday first time was May Tomorrow I m getting the bamlanivimab antibody treatment Has anyone had this Any side affects ',\n",
              " 'I received this one It similar but approved for out patients at high risk of hospitalization hopefully to prevent being hospitalized Before the infusion I was going downhill very quickly Now I m slowly getting better I m pretty certain it the only reason I m not in the hospital ',\n",
              " 'My dr had covid Said we will have herd immunity ',\n",
              " 'My grandpa had an X ray done Wednesday which showed early pneumonia That same day he received the BAM infusion and was sent home as his vital were all good ',\n",
              " 'Sending prayers Did they try monoclonal antibodies It by Eli Lilly and Regeneron ',\n",
              " 'Has she received remdesivir and decadron course There is also a monoclonal antibody one time treatment they are starting to treat residents of nursing home with Covid who are high risk with it',\n",
              " 'My husband had the monoclonal antibodies treatment They didn t give him any antibiotics after Nor did they mention that it was part of the treatment He a diabetic and kidney transplant recipient Where in Utah ',\n",
              " 'Bambi Yarbrough Reed',\n",
              " 'President Trump called the monoclonal antibodies he received for covid unbelievable But hospitals are having trouble dealing with the challenges of administering the drugs ',\n",
              " 'Image may contain text that says download FACT SHEET HEALTH CARE PROVIDERS EMERGENCY USE AUTHORIZATION BAMLANIVIMAE AUTHORIZED USE Authorizatior EUA to permitth bamlanvmal with positive Use weighing COVID LIMITATIONS AUTHORIZED Bamlanivimabis mho COVID in non COVID Bamlanivimabi mechanical Bamlanivimabi ofth sooner declaration unless circumstances section uhorizationis erminated ofthe forthe positive progressin Usej kidney disease the following criteria disease receiving mmunosuppressive treatment ',\n",
              " 'Ori Mevorach yes I was being tested for antibodies all year long by my personal MD ',\n",
              " 'Can you donate convalescent plasma if you received the bam monoclonal antibodies ',\n",
              " 'MONOCLONAL ANTIBODY TREATMENT FOR COVID Isaac Hinton Tuesday November ',\n",
              " 'Monoclonal antibody question are they only given if patient is hospitalized An IV I think ',\n",
              " 'Had it twice smh st time confirmed by antibody test and the second time i went and got tested ',\n",
              " 'Valli Rose Price My sister received only one dose of the monoclonal antibody infusion and that has been it but she is still very ill I only received dexamethasone azitromicin remdesivir and tons of blood thinners',\n",
              " 'Regeneron Study Site Recruiting',\n",
              " 'https www covid lilly com bamlanivimab',\n",
              " 'Yes also had antibody plasma transfusions',\n",
              " 'Karen Thompson my aunt said they did give her the infusion the first time she was in the hospital ',\n",
              " 'Tony J Stanislawski I read they made monoclonal antibodies out of the plasma antibodies in my medical journal',\n",
              " 'What is bamlanivimab Antibody Drug Lilly COVID Treatment',\n",
              " 'Prayers said ',\n",
              " 'He also received dexamethasone remdesivir blood thinners sedation medications ',\n",
              " 'Aaron Goyang do you know if you had antibodies prior ',\n",
              " 'My dad has dementia high blood pressure and diabetes He tested positive on His symptoms were mild He received the monoclonal antibody infusion treatment on We decided to do this treatment because he was a candidate A person must fit certain criteria one being mild symptoms The treatment will not work for advanced symptoms of Covid is meant to keep people from needing oxygen or a ventilator I m so glad we chose this treatment when offered Dad tests negative today and was nearly symptom free on ',\n",
              " 'Has anyone received the Monoclonal Antibody Treatment If so do you mind sharing the good and bad Thank you xo',\n",
              " 'My husband received many monoclonal antibody infusions ',\n",
              " 'I have a question for people who recently like in the last month had covid Have any of you gone to the hospital and received the antibodies treatment that was just approved I think it was regeneron It the treatment the president received ',\n",
              " 'Lorena Hurtado My husband received antibiotics too Yes they gave him repeated doses of antibodies I was told they never know how effective the donated antibodies would be because each dose was unique ',\n",
              " 'Christie Rowland Fowler I don t think so because I received it when I was in the hospital day infusion and was not asked if I wanted to be part of a clinical trial ',\n",
              " 'If you ve had the Eli Lilly or Regeneron antibody treatment our local medical reporter is looking to interview you ',\n",
              " 'Laurentia Albert']"
            ]
          },
          "metadata": {
            "tags": []
          },
          "execution_count": 42
        }
      ]
    },
    {
      "cell_type": "code",
      "metadata": {
        "colab": {
          "base_uri": "https://localhost:8080/",
          "height": 204
        },
        "id": "WXSmGvjCSGpT",
        "outputId": "c05305b0-6807-423a-c211-61b1bf9525aa"
      },
      "source": [
        "unique_posts_tuples = []\r\n",
        "\r\n",
        "for x in matching_posts_list:\r\n",
        "  post_count = 0\r\n",
        "  for y in df['Processed_Sent']:\r\n",
        "    if(x == y):\r\n",
        "      unique_posts_tuple = ((list(df['post'])[post_count]), x)\r\n",
        "      unique_posts_tuples.append(unique_posts_tuple)\r\n",
        "    post_count += 1\r\n",
        "\r\n",
        "unique_posts_df = pd.DataFrame({'Post':[i[0] for i in unique_posts_tuples], 'Processed_Sent':[i[1] for i in unique_posts_tuples]})\r\n",
        "unique_posts_df.head()"
      ],
      "execution_count": 48,
      "outputs": [
        {
          "output_type": "execute_result",
          "data": {
            "text/html": [
              "<div>\n",
              "<style scoped>\n",
              "    .dataframe tbody tr th:only-of-type {\n",
              "        vertical-align: middle;\n",
              "    }\n",
              "\n",
              "    .dataframe tbody tr th {\n",
              "        vertical-align: top;\n",
              "    }\n",
              "\n",
              "    .dataframe thead th {\n",
              "        text-align: right;\n",
              "    }\n",
              "</style>\n",
              "<table border=\"1\" class=\"dataframe\">\n",
              "  <thead>\n",
              "    <tr style=\"text-align: right;\">\n",
              "      <th></th>\n",
              "      <th>Post</th>\n",
              "      <th>Processed_Sent</th>\n",
              "    </tr>\n",
              "  </thead>\n",
              "  <tbody>\n",
              "    <tr>\n",
              "      <th>0</th>\n",
              "      <td>Ruth Adelman mine was separated by 9mos and I ...</td>\n",
              "      <td>Ruth Adelman mine was separated by mos and I h...</td>\n",
              "    </tr>\n",
              "    <tr>\n",
              "      <th>1</th>\n",
              "      <td>Robyn Snyder monoclonal antibodies.</td>\n",
              "      <td>Robyn Snyder monoclonal antibodies</td>\n",
              "    </tr>\n",
              "    <tr>\n",
              "      <th>2</th>\n",
              "      <td>Praise God ...prayers answered!</td>\n",
              "      <td>Praise God prayers answered</td>\n",
              "    </tr>\n",
              "    <tr>\n",
              "      <th>3</th>\n",
              "      <td>He had antibody treatment day two.  God please...</td>\n",
              "      <td>He had antibody treatment day two God please p...</td>\n",
              "    </tr>\n",
              "    <tr>\n",
              "      <th>4</th>\n",
              "      <td>Jessica Garza Monoclonal antibodies are labora...</td>\n",
              "      <td>Jessica Garza Monoclonal antibodies are labora...</td>\n",
              "    </tr>\n",
              "  </tbody>\n",
              "</table>\n",
              "</div>"
            ],
            "text/plain": [
              "                                                Post                                     Processed_Sent\n",
              "0  Ruth Adelman mine was separated by 9mos and I ...  Ruth Adelman mine was separated by mos and I h...\n",
              "1                Robyn Snyder monoclonal antibodies.                Robyn Snyder monoclonal antibodies \n",
              "2                    Praise God ...prayers answered!                       Praise God prayers answered \n",
              "3  He had antibody treatment day two.  God please...  He had antibody treatment day two God please p...\n",
              "4  Jessica Garza Monoclonal antibodies are labora...  Jessica Garza Monoclonal antibodies are labora..."
            ]
          },
          "metadata": {
            "tags": []
          },
          "execution_count": 48
        }
      ]
    },
    {
      "cell_type": "code",
      "metadata": {
        "id": "B9ylbv5bUqRZ"
      },
      "source": [
        "unique_posts_df.to_csv('Unique_Matching_Posts_Antidodies_Taken.csv', index=False, columns=unique_posts_df.columns)"
      ],
      "execution_count": 51,
      "outputs": []
    },
    {
      "cell_type": "code",
      "metadata": {
        "id": "APDctFCGVrVg"
      },
      "source": [
        ""
      ],
      "execution_count": null,
      "outputs": []
    }
  ]
}